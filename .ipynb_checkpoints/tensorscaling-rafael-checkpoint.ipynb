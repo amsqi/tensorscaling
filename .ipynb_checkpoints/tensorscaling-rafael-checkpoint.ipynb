{
 "cells": [
  {
   "cell_type": "code",
   "execution_count": 1,
   "metadata": {},
   "outputs": [],
   "source": [
    "%matplotlib inline\n",
    "from spectral_gap import *\n",
    "import numpy as np\n",
    "import scipy as scipy\n",
    "import matplotlib.pyplot as plt"
   ]
  },
  {
   "cell_type": "markdown",
   "metadata": {},
   "source": [
    "# Tensor scaling"
   ]
  },
  {
   "cell_type": "markdown",
   "metadata": {},
   "source": [
    "Scale 3x3x3 unit tensor to certain non-uniform marginals:"
   ]
  },
  {
   "cell_type": "code",
   "execution_count": null,
   "metadata": {},
   "outputs": [],
   "source": [
    "shape = [3, 3, 3]\n",
    "targets = [(.5, .25, .25), (.4, .3, .3), (.7, .2, .1)]\n",
    "\n",
    "res = scale(unit_tensor(3, 3), targets, eps=1e-4)\n",
    "res"
   ]
  },
  {
   "cell_type": "markdown",
   "metadata": {},
   "source": [
    "We can also access the scaling matrices and the final scaled state:"
   ]
  },
  {
   "cell_type": "code",
   "execution_count": null,
   "metadata": {},
   "outputs": [],
   "source": [
    "print(res.gs[0], \"\\n\")\n",
    "print(res.gs[1], \"\\n\")\n",
    "print(res.gs[2])"
   ]
  },
  {
   "cell_type": "markdown",
   "metadata": {},
   "source": [
    "Let's now check that the W tensor *cannot* be scaled to uniform marginals:"
   ]
  },
  {
   "cell_type": "code",
   "execution_count": null,
   "metadata": {},
   "outputs": [],
   "source": [
    "shape = [2, 2, 2, 2]\n",
    "W = np.zeros(shape)\n",
    "W[1, 0, 0, 0] = W[0, 1, 0, 0] = W[0, 0, 1, 0] = W[0, 0, 0, 1] = .5\n",
    "targets = [(.5, .5)] * 4\n",
    "\n",
    "scale(W, targets, eps=1e-4, max_iterations=1000)"
   ]
  },
  {
   "cell_type": "markdown",
   "metadata": {},
   "source": [
    "To see more clearly what is going on, we can set the `verbose` flag:"
   ]
  },
  {
   "cell_type": "code",
   "execution_count": null,
   "metadata": {},
   "outputs": [],
   "source": [
    "res = scale(W, targets, eps=1e-4, max_iterations=10, verbose=True)"
   ]
  },
  {
   "cell_type": "markdown",
   "metadata": {},
   "source": [
    "We see that at each point in the algorithm, one of the marginals has Frobenius distance $\\approx 0.59$ to being uniform. Indeed, we know that the entanglement polytope of the W tensor does not include the point corresponding to uniform marginals -- see [here](https://www.entanglement-polytopes.org/four_qubits) for an interactive visualization!"
   ]
  },
  {
   "cell_type": "markdown",
   "metadata": {},
   "source": [
    "# Tuples of matrices and tensors"
   ]
  },
  {
   "cell_type": "markdown",
   "metadata": {},
   "source": [
    "We can just as well only prescribe the desired spectra for subsystems.\n",
    "Note that prescribing two out of three marginals amounts to *operator scaling*."
   ]
  },
  {
   "cell_type": "code",
   "execution_count": null,
   "metadata": {},
   "outputs": [],
   "source": [
    "shape = [3, 3, 3]\n",
    "targets = [(.4, .3, .3), (.7, .2, .1)]\n",
    "\n",
    "res = scale(unit_tensor(3, 3), targets, eps=1e-6)\n",
    "res"
   ]
  },
  {
   "cell_type": "markdown",
   "metadata": {},
   "source": [
    "Indeed, the last two marginals are as prescribed, while the first marginal is arbitrary."
   ]
  },
  {
   "cell_type": "code",
   "execution_count": null,
   "metadata": {},
   "outputs": [],
   "source": [
    "print(marginal(res.psi, 0).round(5), \"\\n\")\n",
    "print(marginal(res.psi, 1).round(5), \"\\n\")\n",
    "print(marginal(res.psi, 2).round(5))"
   ]
  },
  {
   "cell_type": "markdown",
   "metadata": {},
   "source": []
  },
  {
   "cell_type": "code",
   "execution_count": null,
   "metadata": {},
   "outputs": [],
   "source": []
  },
  {
   "cell_type": "code",
   "execution_count": null,
   "metadata": {},
   "outputs": [],
   "source": [
    "spectral_gap.main()"
   ]
  },
  {
   "cell_type": "markdown",
   "metadata": {},
   "source": [
    "The below runs scaling on a random Gaussian tensor with expected marginals equal to the diagonal of the targets. It remains to do a few things: "
   ]
  },
  {
   "cell_type": "code",
   "execution_count": 3,
   "metadata": {},
   "outputs": [
    {
     "name": "stdout",
     "output_type": "stream",
     "text": [
      "scaling tensor of shape (3, 3, 3) and type float64\n",
      "target spectra:\n",
      "  0: (0.5, 0.3333333333333333, 0.16666666666666666)\n",
      "  1: (0.4444444444444444, 0.3333333333333333, 0.2222222222222222)\n",
      "  2: (0.41666666666666663, 0.3333333333333333, 0.25)\n",
      "#000: max_dist = -0.63625050 @ sys = 0\n",
      "#001: max_dist = -0.94615792 @ sys = 2\n",
      "#002: max_dist = -1.49497143 @ sys = 0\n",
      "#003: max_dist = -1.46038860 @ sys = 1\n",
      "#004: max_dist = -1.73651611 @ sys = 0\n",
      "#005: max_dist = -1.90986448 @ sys = 2\n",
      "#006: max_dist = -2.15599078 @ sys = 1\n",
      "#007: max_dist = -2.00201900 @ sys = 0\n",
      "#008: max_dist = -2.32963127 @ sys = 1\n",
      "#009: max_dist = -2.42307173 @ sys = 2\n",
      "#010: max_dist = -2.43340231 @ sys = 0\n",
      "#011: max_dist = -2.52482685 @ sys = 1\n",
      "#012: max_dist = -2.69166951 @ sys = 2\n",
      "#013: max_dist = -2.73255296 @ sys = 0\n",
      "#014: max_dist = -2.73919419 @ sys = 1\n",
      "#015: max_dist = -2.91192261 @ sys = 2\n",
      "#016: max_dist = -2.97780236 @ sys = 0\n",
      "#017: max_dist = -2.99831386 @ sys = 1\n",
      "#018: max_dist = -3.12701609 @ sys = 2\n",
      "#019: max_dist = -3.24192913 @ sys = 0\n",
      "#020: max_dist = -3.29943518 @ sys = 1\n",
      "#021: max_dist = -3.36716319 @ sys = 2\n",
      "#022: max_dist = -3.54773026 @ sys = 0\n",
      "#023: max_dist = -3.63676849 @ sys = 1\n",
      "#024: max_dist = -3.64238326 @ sys = 2\n",
      "#025: max_dist = -3.89753335 @ sys = 0\n",
      "#026: max_dist = -4.00336776 @ sys = 1\n",
      "#027: max_dist = -3.95181943 @ sys = 2\n",
      "#028: max_dist = -4.24847975 @ sys = 1\n",
      "#029: max_dist = -4.40311049 @ sys = 0\n",
      "#030: max_dist = -4.36405667 @ sys = 2\n",
      "#031: max_dist = -4.64742298 @ sys = 0\n",
      "#032: max_dist = -4.81123861 @ sys = 1\n",
      "#033: max_dist = -4.71670499 @ sys = 2\n",
      "#034: max_dist = -5.01781328 @ sys = 1\n",
      "success!\n",
      "scaling tensor of shape (3, 3, 3) and type float64\n",
      "target spectra:\n",
      "  0: (0.5, 0.3333333333333333, 0.16666666666666666)\n",
      "  1: (0.4444444444444444, 0.3333333333333333, 0.2222222222222222)\n",
      "  2: (0.41666666666666663, 0.3333333333333333, 0.25)\n",
      "#000: max_dist = -0.94066284 @ sys = 1\n",
      "#001: max_dist = -1.07740684 @ sys = 0\n",
      "#002: max_dist = -1.33994106 @ sys = 2\n",
      "#003: max_dist = -1.78412478 @ sys = 1\n",
      "#004: max_dist = -2.66701811 @ sys = 0\n",
      "#005: max_dist = -2.94868306 @ sys = 2\n",
      "#006: max_dist = -2.94364512 @ sys = 1\n",
      "#007: max_dist = -3.54584420 @ sys = 2\n",
      "#008: max_dist = -3.89492361 @ sys = 1\n",
      "#009: max_dist = -3.61799439 @ sys = 0\n",
      "#010: max_dist = -4.24504007 @ sys = 1\n",
      "#011: max_dist = -4.02910734 @ sys = 2\n",
      "#012: max_dist = -4.43927237 @ sys = 1\n",
      "#013: max_dist = -4.64002883 @ sys = 0\n",
      "#014: max_dist = -5.01961785 @ sys = 2\n",
      "success!\n",
      "scaling tensor of shape (3, 3, 3) and type float64\n",
      "target spectra:\n",
      "  0: (0.5, 0.3333333333333333, 0.16666666666666666)\n",
      "  1: (0.4444444444444444, 0.3333333333333333, 0.2222222222222222)\n",
      "  2: (0.41666666666666663, 0.3333333333333333, 0.25)\n",
      "#000: max_dist = -0.79998611 @ sys = 1\n",
      "#001: max_dist = -1.29162088 @ sys = 2\n",
      "#002: max_dist = -1.02471835 @ sys = 0\n",
      "#003: max_dist = -1.59842806 @ sys = 2\n",
      "#004: max_dist = -1.94664110 @ sys = 1\n",
      "#005: max_dist = -2.22698190 @ sys = 0\n",
      "#006: max_dist = -2.10331855 @ sys = 2\n",
      "#007: max_dist = -2.53924185 @ sys = 0\n",
      "#008: max_dist = -3.00768846 @ sys = 1\n",
      "#009: max_dist = -2.83663748 @ sys = 2\n",
      "#010: max_dist = -3.13572747 @ sys = 0\n",
      "#011: max_dist = -3.33886174 @ sys = 1\n",
      "#012: max_dist = -3.21382504 @ sys = 2\n",
      "#013: max_dist = -3.52821820 @ sys = 1\n",
      "#014: max_dist = -3.90696684 @ sys = 0\n",
      "#015: max_dist = -3.79489943 @ sys = 2\n",
      "#016: max_dist = -3.95069614 @ sys = 1\n",
      "#017: max_dist = -4.26440909 @ sys = 0\n",
      "#018: max_dist = -4.11737001 @ sys = 2\n",
      "#019: max_dist = -4.41312857 @ sys = 1\n",
      "#020: max_dist = -4.56066871 @ sys = 0\n",
      "#021: max_dist = -4.48436074 @ sys = 2\n",
      "#022: max_dist = -4.84327183 @ sys = 0\n",
      "#023: max_dist = -4.88707428 @ sys = 1\n",
      "#024: max_dist = -5.02035420 @ sys = 2\n",
      "success!\n"
     ]
    }
   ],
   "source": [
    "spectral_gap.main_cole(3,[[1,2,3], [2,3,4], [3,4,5]],np.exp(-5),3,100)"
   ]
  },
  {
   "cell_type": "markdown",
   "metadata": {},
   "source": [
    "For $3$ qubits, the only free variables are $\\lambda_i:=\\lambda^i_{max}$. They moment polytope is characterized by being permutation invariant and the inequality $.5 \\leq \\lambda_1 \\leq 1$, and $\\lambda_1 \\geq \\lambda_2 + \\lambda_3 - 1$. Below we plug in one that is just on the border."
   ]
  },
  {
   "cell_type": "code",
   "execution_count": 2,
   "metadata": {},
   "outputs": [
    {
     "data": {
      "text/plain": [
       "Result(success=False, iterations=100, max_dist=0.009655781858163263, ...)"
      ]
     },
     "execution_count": 2,
     "metadata": {},
     "output_type": "execute_result"
    }
   ],
   "source": [
    "main_cole(2,[[.76,.24], [.75,.25], [.5,.5]],np.exp(-5),3,100)"
   ]
  },
  {
   "cell_type": "markdown",
   "metadata": {},
   "source": [
    "Next, let's try to take a point just on the border and see if it converges faster with a uniformly random tensor or one with modified covariance. To do this, we'll have to modify michael's code to output the list of distances."
   ]
  },
  {
   "cell_type": "code",
   "execution_count": 29,
   "metadata": {},
   "outputs": [
    {
     "data": {
      "text/plain": [
       "<matplotlib.legend.Legend at 0x11e2ebba8>"
      ]
     },
     "execution_count": 29,
     "metadata": {},
     "output_type": "execute_result"
    },
    {
     "data": {
      "image/png": "[encoded data removed]",
      "text/plain": [
       "<Figure size 432x288 with 1 Axes>"
      ]
     },
     "metadata": {
      "needs_background": "light"
     },
     "output_type": "display_data"
    }
   ],
   "source": [
    "targets = [[.75,.25], [.75,.25], [.5,.5]]\n",
    "\n",
    "psi = random_tensor([2,2,2])\n",
    "phi = random_normal_tensor(targets).reshape(2,2,2)\n",
    "#print(phi)\n",
    "a = scaling_distances(psi, targets, 10**(-5))\n",
    "b = scaling_distances(phi, targets, 10**(-5))\n",
    "plt.plot(a, label = 'a')\n",
    "plt.plot(b, label = 'b')\n",
    "plt.legend()"
   ]
  },
  {
   "cell_type": "markdown",
   "metadata": {},
   "source": [
    "How about lots of runs, just looking at the time it took to converge?"
   ]
  },
  {
   "cell_type": "code",
   "execution_count": 28,
   "metadata": {},
   "outputs": [
    {
     "data": {
      "text/plain": [
       "Text(0, 0.5, 'targeted')"
      ]
     },
     "execution_count": 28,
     "metadata": {},
     "output_type": "execute_result"
    },
    {
     "data": {
      "image/png": "[encoded data removed]",
      "text/plain": [
       "<Figure size 432x288 with 1 Axes>"
      ]
     },
     "metadata": {
      "needs_background": "light"
     },
     "output_type": "display_data"
    }
   ],
   "source": [
    "runs = 40\n",
    "n = 2\n",
    "targets = [[.75,.25], [.75,.25], [.5,.5]]\n",
    "uniform=[]\n",
    "targeted=[]\n",
    "for i in range(runs):\n",
    "    psi = random_tensor([n,n,n])\n",
    "    phi = random_normal_tensor(targets).reshape(n,n,n)\n",
    "    uniform.append(len(scaling_distances(psi, targets, 10**(-3), max_iterations=1000)))\n",
    "    targeted.append(len(scaling_distances(phi, targets, 10**(-3), max_iterations=1000)))\n",
    "    \n",
    "plt.scatter(uniform,targeted)\n",
    "plt.xlabel(\"uniform\")\n",
    "plt.ylabel(\"targeted\")\n",
    "    "
   ]
  },
  {
   "cell_type": "code",
   "execution_count": null,
   "metadata": {},
   "outputs": [],
   "source": []
  }
 ],
 "metadata": {
  "kernelspec": {
   "display_name": "Python 3",
   "language": "python",
   "name": "python3"
  },
  "language_info": {
   "codemirror_mode": {
    "name": "ipython",
    "version": 3
   },
   "file_extension": ".py",
   "mimetype": "text/x-python",
   "name": "python",
   "nbconvert_exporter": "python",
   "pygments_lexer": "ipython3",
   "version": "3.7.1"
  }
 },
 "nbformat": 4,
 "nbformat_minor": 2
}
