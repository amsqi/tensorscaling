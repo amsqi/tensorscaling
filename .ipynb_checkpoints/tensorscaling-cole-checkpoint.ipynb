{
 "cells": [
  {
   "cell_type": "code",
   "execution_count": 13,
   "metadata": {},
   "outputs": [],
   "source": [
    "%matplotlib inline\n",
    "from tensorscaling import scale, capacity, unit_tensor, random_tensor, marginal, random_unitary, random_orthogonal\n",
    "import numpy as np\n",
    "import scipy as scipy\n",
    "from scipy import optimize\n",
    "import cvxpy as cp\n",
    "import matplotlib.pyplot as plt\n",
    "from numpy import matrix\n",
    "from sympy import *\n",
    "import itertools"
   ]
  },
  {
   "cell_type": "markdown",
   "metadata": {},
   "source": [
    "# Tensor scaling"
   ]
  },
  {
   "cell_type": "markdown",
   "metadata": {},
   "source": [
    "Scale 3x3x3 unit tensor to certain non-uniform marginals:"
   ]
  },
  {
   "cell_type": "code",
   "execution_count": null,
   "metadata": {},
   "outputs": [],
   "source": [
    "shape = [3, 3, 3]\n",
    "targets = [(.5, .25, .25), (.4, .3, .3), (.7, .2, .1)]\n",
    "\n",
    "res = scale(unit_tensor(3, 3), targets, eps=1e-4)\n",
    "res"
   ]
  },
  {
   "cell_type": "markdown",
   "metadata": {},
   "source": [
    "We can also access the scaling matrices and the final scaled state:"
   ]
  },
  {
   "cell_type": "code",
   "execution_count": null,
   "metadata": {},
   "outputs": [],
   "source": [
    "print(res.gs[0], \"\\n\")\n",
    "print(res.gs[1], \"\\n\")\n",
    "print(res.gs[2])"
   ]
  },
  {
   "cell_type": "markdown",
   "metadata": {},
   "source": [
    "Let's now check that the W tensor *cannot* be scaled to uniform marginals:"
   ]
  },
  {
   "cell_type": "code",
   "execution_count": 22,
   "metadata": {},
   "outputs": [
    {
     "name": "stdout",
     "output_type": "stream",
     "text": [
      "[(0.5, 0.5), (0.5, 0.5), (0.5, 0.5), (0.5, 0.5)]\n"
     ]
    },
    {
     "data": {
      "text/plain": [
       "Result(success=False, iterations=1000, max_dist=0.5934653559719874, ...)"
      ]
     },
     "execution_count": 22,
     "metadata": {},
     "output_type": "execute_result"
    }
   ],
   "source": [
    "shape = [2, 2, 2, 2]\n",
    "W = np.zeros(shape)\n",
    "W[1, 0, 0, 0] = W[0, 1, 0, 0] = W[0, 0, 1, 0] = W[0, 0, 0, 1] = .5\n",
    "targets = [(.5, .5)] * 4\n",
    "print(targets)\n",
    "\n",
    "scale(W, targets, eps=1e-4, max_iterations=1000)"
   ]
  },
  {
   "cell_type": "markdown",
   "metadata": {},
   "source": [
    "To see more clearly what is going on, we can set the `verbose` flag:"
   ]
  },
  {
   "cell_type": "code",
   "execution_count": null,
   "metadata": {},
   "outputs": [],
   "source": [
    "res = scale(W, targets, eps=1e-4, max_iterations=10, verbose=True)"
   ]
  },
  {
   "cell_type": "markdown",
   "metadata": {},
   "source": [
    "We see that at each point in the algorithm, one of the marginals has Frobenius distance $\\approx 0.59$ to being uniform. Indeed, we know that the entanglement polytope of the W tensor does not include the point corresponding to uniform marginals -- see [here](https://www.entanglement-polytopes.org/four_qubits) for an interactive visualization!"
   ]
  },
  {
   "cell_type": "markdown",
   "metadata": {},
   "source": [
    "# Tuples of matrices and tensors"
   ]
  },
  {
   "cell_type": "markdown",
   "metadata": {},
   "source": [
    "We can just as well only prescribe the desired spectra for subsystems.\n",
    "Note that prescribing two out of three marginals amounts to *operator scaling*."
   ]
  },
  {
   "cell_type": "code",
   "execution_count": null,
   "metadata": {},
   "outputs": [],
   "source": [
    "shape = [3, 3, 3]\n",
    "targets = [(.4, .3, .3), (.7, .2, .1)]\n",
    "\n",
    "res = scale(unit_tensor(3, 3), targets, eps=1e-6)\n",
    "res"
   ]
  },
  {
   "cell_type": "markdown",
   "metadata": {},
   "source": [
    "Indeed, the last two marginals are as prescribed, while the first marginal is arbitrary."
   ]
  },
  {
   "cell_type": "code",
   "execution_count": null,
   "metadata": {},
   "outputs": [],
   "source": [
    "print(marginal(res.psi, 0).round(5), \"\\n\")\n",
    "print(marginal(res.psi, 1).round(5), \"\\n\")\n",
    "print(marginal(res.psi, 2).round(5))"
   ]
  },
  {
   "cell_type": "markdown",
   "metadata": {},
   "source": [
    "# Duality\n"
   ]
  },
  {
   "cell_type": "markdown",
   "metadata": {},
   "source": [
    "**The scaling way:** The below computes $\\frac{1}{t}\\inf_{\\det L = \\det R = 1} \\langle L \\otimes R,  e^{tC} \\rangle $ for inputs $C = uni (spec) uni^\\dagger$, dimension $n$, and weight $t$."
   ]
  },
  {
   "cell_type": "code",
   "execution_count": 4,
   "metadata": {
    "scrolled": true
   },
   "outputs": [],
   "source": [
    "def scalingot(spec,uni,n,weight):\n",
    "    #marginals p and q are just normalized identities\n",
    "    targets = [tuple((n**(-1))*np.ones(n)), tuple((n**(-1))*np.ones(n))]\n",
    "\n",
    "    expcost = uni.copy()\n",
    "    #make the unitary a list of nxn matrices  \n",
    "    expcost=expcost.reshape([n**2,n,n])\n",
    "\n",
    "\n",
    "    expspec = np.exp(weight*spec)\n",
    "    #multiply the i^{th} eigenvector by e^(weight*spec[i])\n",
    "    for i in range(0,n**2):\n",
    "        expcost[i]*=expspec[i]\n",
    "    cap = capacity(expcost, targets, eps=1e-4, max_iterations=400,randomize=False, verbose=False)\n",
    "    \n",
    "    return cap/weight\n",
    "\n"
   ]
  },
  {
   "cell_type": "markdown",
   "metadata": {},
   "source": [
    "**The SDP way:** Compute the sdp $\\max C \\cdot \\rho$ subject to $  E_{ij} \\otimes I_n \\cdot \\rho = P_{ij}$ and $ I_n \\otimes E_{ij} \\cdot \\rho = Q_{ij}$ and, of course $\\rho \\succeq 0$. "
   ]
  },
  {
   "cell_type": "code",
   "execution_count": 3,
   "metadata": {
    "scrolled": true
   },
   "outputs": [],
   "source": [
    "\n",
    "def sdpot(spec, uni, n):\n",
    "    #compute the cost matrix C = uni*spec*uni^T\n",
    "    C = uni.dot(np.diag(spec).dot(np.conj(uni).T))\n",
    "    #currently the marginals are just the normalized identities\n",
    "    p = np.eye(n,n)/n\n",
    "    q = np.eye(n,n)/n\n",
    "\n",
    "\n",
    "    X = cp.Variable((n**2,n**2), symmetric=True)\n",
    "    constraintos = [X >> 0]\n",
    "\n",
    "#add the partial trace constraints\n",
    "\n",
    "    for i in range(n):\n",
    "        for j in range(i+1):\n",
    "            a = np.kron(np.kron(np.eye(1,n,i), np.eye(n,1,-j)), np.eye(n,n))        #c.reshape([n**2,n**2])\n",
    "            a = (a + a.T)/2\n",
    "        \n",
    "            constraintos += [cp.trace(a @ X) == p[i,j]]\n",
    "        \n",
    "        \n",
    "        \n",
    "    for i in range(n):\n",
    "        for j in range(i+1):\n",
    "            a = np.kron(np.eye(n,n), np.kron(np.eye(1,n,i), np.eye(n,1,-j)))        #c.reshape([n**2,n**2])\n",
    "            a = (a + a.T)/2\n",
    "        \n",
    "            constraintos += [cp.trace(a @ X) == q[i,j]]\n",
    "\n",
    "\n",
    "    prob1 = cp.Problem(cp.Maximize(cp.trace(C @ X)),\n",
    "                  constraintos)\n",
    "\n",
    "    prob1.solve()\n",
    "    \n",
    "    return prob1.value\n",
    "\n",
    "    \n"
   ]
  },
  {
   "cell_type": "markdown",
   "metadata": {},
   "source": [
    "**Sanity check:** when the cost C is diagonal these algorithms should match "
   ]
  },
  {
   "cell_type": "code",
   "execution_count": 5,
   "metadata": {
    "scrolled": true
   },
   "outputs": [
    {
     "data": {
      "text/plain": [
       "<matplotlib.collections.PathCollection at 0x12beb4518>"
      ]
     },
     "execution_count": 5,
     "metadata": {},
     "output_type": "execute_result"
    },
    {
     "data": {
      "image/png": "[encoded data removed]",
      "text/plain": [
       "<Figure size 432x288 with 1 Axes>"
      ]
     },
     "metadata": {
      "needs_background": "light"
     },
     "output_type": "display_data"
    }
   ],
   "source": [
    "n = 2\n",
    "scal = []\n",
    "sdp = []\n",
    "\n",
    "for i in range(20):\n",
    "    #choose random spectrum for cost matrix\n",
    "    spec = np.random.randn(n**2)\n",
    "    #C will be uni*spec*uni^T, for now we make C diagonal \n",
    "    uni = np.eye(n**2)\n",
    "    #compute the mincost using both algorithms\n",
    "    sc = scalingot(spec,uni,n,4)\n",
    "    sd = sdpot(spec,uni,n)\n",
    "    #put them in a list\n",
    "    scal.append(sc)\n",
    "    sdp.append(sd)\n",
    "#scatter plot it\n",
    "x = np.arange(-1,4)\n",
    "plt.plot(x,x)\n",
    "plt.scatter(scal,sdp)\n",
    "\n",
    "\n",
    "\n",
    "\n",
    "    "
   ]
  },
  {
   "cell_type": "markdown",
   "metadata": {},
   "source": [
    "**In general:** we don't know what will happen, but it doesn't look like they are the same. \n",
    "EDIT: this supports Jason's calculation that the scaling is always bigger."
   ]
  },
  {
   "cell_type": "code",
   "execution_count": 6,
   "metadata": {
    "scrolled": true
   },
   "outputs": [
    {
     "data": {
      "text/plain": [
       "<matplotlib.collections.PathCollection at 0x12bf0eeb8>"
      ]
     },
     "execution_count": 6,
     "metadata": {},
     "output_type": "execute_result"
    },
    {
     "data": {
      "image/png": "[encoded data removed]",
      "text/plain": [
       "<Figure size 432x288 with 1 Axes>"
      ]
     },
     "metadata": {
      "needs_background": "light"
     },
     "output_type": "display_data"
    }
   ],
   "source": [
    "n = 2\n",
    "scal = []\n",
    "sdp = []\n",
    "spec = np.random.randn(n**2)\n",
    "\n",
    "\n",
    "\n",
    "for i in range(20):\n",
    "    spec = np.random.randn(n**2)\n",
    "    #same except this time we use random unitary so that C is quite random\n",
    "    uni = random_orthogonal(n**2)\n",
    "    sc = scalingot(spec,uni,n,40)\n",
    "    sd = sdpot(spec,uni,n)\n",
    "    scal.append(sc)\n",
    "    sdp.append(sd)\n",
    "x = np.arange(-1,4)\n",
    "plt.plot(x,x)\n",
    "plt.scatter(scal,sdp)\n"
   ]
  },
  {
   "cell_type": "markdown",
   "metadata": {},
   "source": [
    "Based on that crazy formula I conjectured for the scaling limit, I conjectured that the scaling limit would depend only on the spectrum and not the unitary (provided the unitary is random). This looks true!"
   ]
  },
  {
   "cell_type": "code",
   "execution_count": 52,
   "metadata": {},
   "outputs": [
    {
     "data": {
      "text/plain": [
       "[<matplotlib.lines.Line2D at 0x1256be358>]"
      ]
     },
     "execution_count": 52,
     "metadata": {},
     "output_type": "execute_result"
    },
    {
     "data": {
      "image/png": "[encoded data removed]",
      "text/plain": [
       "<Figure size 432x288 with 1 Axes>"
      ]
     },
     "metadata": {
      "needs_background": "light"
     },
     "output_type": "display_data"
    }
   ],
   "source": [
    "n = 2\n",
    "scal = []\n",
    "sdp = []\n",
    "\n",
    "for j in range(5):\n",
    "    spec = np.random.randn(n**2)\n",
    "    for i in range(20):\n",
    "    \n",
    "        uni = random_orthogonal(n**2)\n",
    "        sc = scalingot(spec,uni,n,30)\n",
    "        scal.append(sc)\n",
    "\n",
    "plt.plot(scal)"
   ]
  },
  {
   "cell_type": "markdown",
   "metadata": {},
   "source": [
    "The same does not appear to be true for the sdp."
   ]
  },
  {
   "cell_type": "code",
   "execution_count": 50,
   "metadata": {},
   "outputs": [
    {
     "data": {
      "text/plain": [
       "[<matplotlib.lines.Line2D at 0x1255000b8>]"
      ]
     },
     "execution_count": 50,
     "metadata": {},
     "output_type": "execute_result"
    },
    {
     "data": {
      "image/png": "[encoded data removed]",
      "text/plain": [
       "<Figure size 432x288 with 1 Axes>"
      ]
     },
     "metadata": {
      "needs_background": "light"
     },
     "output_type": "display_data"
    }
   ],
   "source": [
    "n = 2\n",
    "scal = []\n",
    "sdp = []\n",
    "\n",
    "for j in range(5):\n",
    "    spec = np.random.randn(n**2)\n",
    "    for i in range(20):\n",
    "    \n",
    "        uni = random_orthogonal(n**2)\n",
    "        sd = sdpot(spec,uni,n)\n",
    "        sdp.append(sd)\n",
    "\n",
    "plt.plot(sdp)"
   ]
  },
  {
   "cell_type": "markdown",
   "metadata": {},
   "source": [
    " # Ok next, check if this is the same thing as that optimization problem\n",
    " \n",
    " 1. I believe that what we want to compare against is $$\\inf_{U} \\max_{\\mu(P) = 0} \\sum_{\\omega} P_\\omega \\max \\{ c_i: (\\pi(U) \\rho_i)_\\omega > 0\\}$$\n",
    " 2. So the first thing we have to do is try to maximize something over unitaries. However, this is not obviously an easy task. Maybe what's better is to try to test if a given function $\\omega \\to \\max \\{i: (\\pi(U) \\rho_i)_\\omega > 0\\}$ is admissible. Note: has nothing to do with cost. Patterns that are admissible for random $\\rho_i$ might actually be pretty easy to understand. "
   ]
  },
  {
   "cell_type": "markdown",
   "metadata": {},
   "source": [
    "**Testing if a function is admissible:** I have a feeling some algebraic geometers or representation theorists have a nice answer to this, but I can't find it."
   ]
  },
  {
   "cell_type": "markdown",
   "metadata": {},
   "source": [
    "**Symbolic scratch**"
   ]
  },
  {
   "cell_type": "code",
   "execution_count": 14,
   "metadata": {},
   "outputs": [
    {
     "data": {
      "text/plain": [
       "[(1, z, z), (x, 0, 0)]"
      ]
     },
     "execution_count": 14,
     "metadata": {},
     "output_type": "execute_result"
    }
   ],
   "source": [
    "#test sympy:\n",
    "x, y, z = symbols('x y z')\n",
    "solve(Eq(x*y, 0.2), [x,y])\n",
    "\n",
    "solve([x*y - z, y - z], [x,y,z])"
   ]
  },
  {
   "cell_type": "code",
   "execution_count": 27,
   "metadata": {},
   "outputs": [],
   "source": [
    "X = MatrixSymbol('X',2,2)"
   ]
  },
  {
   "cell_type": "code",
   "execution_count": 35,
   "metadata": {},
   "outputs": [
    {
     "data": {
      "text/plain": [
       "matrix([[X[0, 0] + X[0, 1]*X[1, 0], X[0, 1]*X[1, 1] + X[0, 1]],\n",
       "        [X[1, 0], X[1, 1]]], dtype=object)"
      ]
     },
     "execution_count": 35,
     "metadata": {},
     "output_type": "execute_result"
    }
   ],
   "source": [
    "Y = matrix(Identity(2))\n",
    "Y[0,1]=X[0,1]\n",
    "\n",
    "Y*matrix(X)\n",
    "#next question: can use the entries of this kind of thing as equations for the solver?"
   ]
  },
  {
   "cell_type": "markdown",
   "metadata": {},
   "source": [
    "**Pattern admissibility testing**\n",
    "\n",
    "Want to test if pattern is admissible. Pattern is array with numbers from 1 to n^2. Define pattern $\\omega \\mapsto i$ to be admissible if there exists $N$ unipotent such that $(N \\cdot v_j)_\\omega = 0$ for $j \\geq i$. If $v$ is actually random, I hope that's the same as if there is a symbolic solution (I should probably actually try to understand that...) but first, let's just try with $v_j$ random. By the way it doesn't seem to matter if the $v_j$ are orthonormal in this case; we could have started with a gram matrix and then orthogonalized it. Also this suggests the solution should actually be the SAME for every random basis!!!\n",
    "\n",
    "\n",
    "The below currently tests if a pattern is admissible for $n = 2$."
   ]
  },
  {
   "cell_type": "code",
   "execution_count": 125,
   "metadata": {},
   "outputs": [],
   "source": [
    "n = 2\n",
    "\n",
    "#define the unipotents\n",
    "def patterntest4(pat,n):\n",
    "    x,y = symbols('x y')\n",
    "\n",
    "    N1 = matrix(Identity(n))\n",
    "    N1[1,0]=x\n",
    "#X = Matrix(MatrixSymbol('X',n,n))\n",
    "#for i in range(n):\n",
    "#    for j in range(i):\n",
    "#        N1[i,j] = X[i,j]\n",
    "\n",
    "    N2 = matrix(Identity(n))\n",
    "    N2[1,0]=y\n",
    "#Y = Matrix(MatrixSymbol('Y',n,n))\n",
    "#for i in range(n):\n",
    "#    for j in range(i):\n",
    "#        N2[i,j] = Y[i,j]\n",
    "        \n",
    "#next, need to act on v_j by it.\n",
    "    N = np.kron(N1,N2)\n",
    "#print(N)\n",
    "#get the vectors; gotta be more careful whether it's the row or what.\n",
    "    uni = random_orthogonal(n**2)\n",
    "#uni = Matrix(MatrixSymbol('Z',n**2,n**2))\n",
    "\n",
    "    acted = N*uni\n",
    "#print(acted)\n",
    "#so the columns are N\\cdot v_i. So then pattern tells us how many of the final entries\n",
    "#should be zero in row omega.\n",
    "#np.reshape(uni, [n**2,n**2])\n",
    "\n",
    "#this should take in a list of vectors \n",
    "    \n",
    "\n",
    "    system = []\n",
    "\n",
    "    for i in range(n**2):\n",
    "        for j in range(pat[i],n**2):\n",
    "            system.append(acted[i,j])\n",
    "    #print(len(system))\n",
    "#x= symbol('X[1,0]'y = symbol('Y[1,0]')\n",
    "    #print(solve(system, [x,y]))\n",
    "    if len(solve(system, [x,y]))==0:\n",
    "        return 0\n",
    "    else:\n",
    "        return 1\n",
    "\n"
   ]
  },
  {
   "cell_type": "markdown",
   "metadata": {},
   "source": [
    "Test it out."
   ]
  },
  {
   "cell_type": "code",
   "execution_count": 127,
   "metadata": {},
   "outputs": [
    {
     "data": {
      "text/plain": [
       "1"
      ]
     },
     "execution_count": 127,
     "metadata": {},
     "output_type": "execute_result"
    }
   ],
   "source": [
    "patterntest4((4,4,4,3),2)"
   ]
  },
  {
   "cell_type": "markdown",
   "metadata": {},
   "source": [
    "**Find all admissible patterns for $n = 2$.** This has some chance of producing a bogus pattern, but it should be low."
   ]
  },
  {
   "cell_type": "code",
   "execution_count": 133,
   "metadata": {},
   "outputs": [
    {
     "name": "stdout",
     "output_type": "stream",
     "text": [
      "[(4, 3, 3, 4), (4, 3, 4, 4), (4, 4, 3, 4), (4, 4, 4, 2), (4, 4, 4, 3)]\n"
     ]
    }
   ],
   "source": [
    "n = 2\n",
    "x = itertools.product(range(1,n**2+1),range(1,n**2+1),range(1,n**2+1), range(1,n**2+1) )\n",
    "#x = itertools.product(x, range(n**2))\n",
    "#x = itertools.product(x,range(n**2))\n",
    "\n",
    "y = 0\n",
    "patterns = []\n",
    "for pat in x:\n",
    "    #print(tuple(pat))\n",
    "    if patterntest4(pat,n)==1:\n",
    "        patterns.append(pat)\n",
    "        \n",
    "print(patterns)\n",
    "\n",
    "\n",
    "        \n",
    "        \n",
    "    \n",
    "\n",
    "    \n"
   ]
  },
  {
   "cell_type": "markdown",
   "metadata": {},
   "source": [
    "Now, the formula predicts that we take the minimum diagonal sdp cost over these patterns."
   ]
  },
  {
   "cell_type": "code",
   "execution_count": 18,
   "metadata": {},
   "outputs": [],
   "source": [
    "\n",
    "patterns = [(4, 3, 3, 4), (4, 3, 4, 4), (4, 4, 3, 4), (4, 4, 4, 2), (4, 4, 4, 3)]\n",
    "def formula2(spec, n):\n",
    "    spec.sort()\n",
    "    sdpvals = []\n",
    "    #patterns needs to be the above thing.\n",
    "    for pat in patterns:\n",
    "        entries = np.zeros(n**2)\n",
    "        for i in range(n**2):\n",
    "            entries[i] = spec[pat[i]-1]\n",
    "            sdpvals.append(sdpot(entries,np.eye(n**2),n))\n",
    "    print(np.argmin(sdpvals))\n",
    "    return 2*min(sdpvals)"
   ]
  },
  {
   "cell_type": "code",
   "execution_count": 19,
   "metadata": {},
   "outputs": [
    {
     "ename": "NameError",
     "evalue": "name 'argmin' is not defined",
     "output_type": "error",
     "traceback": [
      "\u001b[0;31m---------------------------------------------------------------------------\u001b[0m",
      "\u001b[0;31mNameError\u001b[0m                                 Traceback (most recent call last)",
      "\u001b[0;32m<ipython-input-19-2aa6a35289dc>\u001b[0m in \u001b[0;36m<module>\u001b[0;34m\u001b[0m\n\u001b[1;32m      9\u001b[0m     \u001b[0mspec\u001b[0m\u001b[0;34m.\u001b[0m\u001b[0msort\u001b[0m\u001b[0;34m(\u001b[0m\u001b[0;34m)\u001b[0m\u001b[0;34m\u001b[0m\u001b[0;34m\u001b[0m\u001b[0m\n\u001b[1;32m     10\u001b[0m     \u001b[0msdpvals\u001b[0m \u001b[0;34m=\u001b[0m \u001b[0;34m[\u001b[0m\u001b[0;34m]\u001b[0m\u001b[0;34m\u001b[0m\u001b[0;34m\u001b[0m\u001b[0m\n\u001b[0;32m---> 11\u001b[0;31m     \u001b[0msdp\u001b[0m\u001b[0;34m.\u001b[0m\u001b[0mappend\u001b[0m\u001b[0;34m(\u001b[0m\u001b[0mformula2\u001b[0m\u001b[0;34m(\u001b[0m\u001b[0mspec\u001b[0m\u001b[0;34m,\u001b[0m\u001b[0mn\u001b[0m\u001b[0;34m)\u001b[0m\u001b[0;34m)\u001b[0m\u001b[0;34m\u001b[0m\u001b[0;34m\u001b[0m\u001b[0m\n\u001b[0m\u001b[1;32m     12\u001b[0m \u001b[0mplt\u001b[0m\u001b[0;34m.\u001b[0m\u001b[0mscatter\u001b[0m\u001b[0;34m(\u001b[0m\u001b[0mscal\u001b[0m\u001b[0;34m,\u001b[0m\u001b[0msdp\u001b[0m\u001b[0;34m)\u001b[0m\u001b[0;34m\u001b[0m\u001b[0;34m\u001b[0m\u001b[0m\n\u001b[1;32m     13\u001b[0m \u001b[0mfig\u001b[0m \u001b[0;34m=\u001b[0m \u001b[0mplt\u001b[0m\u001b[0;34m.\u001b[0m\u001b[0mfigure\u001b[0m\u001b[0;34m(\u001b[0m\u001b[0;34m)\u001b[0m\u001b[0;34m\u001b[0m\u001b[0;34m\u001b[0m\u001b[0m\n",
      "\u001b[0;32m<ipython-input-18-821c41cc362e>\u001b[0m in \u001b[0;36mformula2\u001b[0;34m(spec, n)\u001b[0m\n\u001b[1;32m     10\u001b[0m             \u001b[0mentries\u001b[0m\u001b[0;34m[\u001b[0m\u001b[0mi\u001b[0m\u001b[0;34m]\u001b[0m \u001b[0;34m=\u001b[0m \u001b[0mspec\u001b[0m\u001b[0;34m[\u001b[0m\u001b[0mpat\u001b[0m\u001b[0;34m[\u001b[0m\u001b[0mi\u001b[0m\u001b[0;34m]\u001b[0m\u001b[0;34m-\u001b[0m\u001b[0;36m1\u001b[0m\u001b[0;34m]\u001b[0m\u001b[0;34m\u001b[0m\u001b[0;34m\u001b[0m\u001b[0m\n\u001b[1;32m     11\u001b[0m             \u001b[0msdpvals\u001b[0m\u001b[0;34m.\u001b[0m\u001b[0mappend\u001b[0m\u001b[0;34m(\u001b[0m\u001b[0msdpot\u001b[0m\u001b[0;34m(\u001b[0m\u001b[0mentries\u001b[0m\u001b[0;34m,\u001b[0m\u001b[0mnp\u001b[0m\u001b[0;34m.\u001b[0m\u001b[0meye\u001b[0m\u001b[0;34m(\u001b[0m\u001b[0mn\u001b[0m\u001b[0;34m**\u001b[0m\u001b[0;36m2\u001b[0m\u001b[0;34m)\u001b[0m\u001b[0;34m,\u001b[0m\u001b[0mn\u001b[0m\u001b[0;34m)\u001b[0m\u001b[0;34m)\u001b[0m\u001b[0;34m\u001b[0m\u001b[0;34m\u001b[0m\u001b[0m\n\u001b[0;32m---> 12\u001b[0;31m     \u001b[0mprint\u001b[0m\u001b[0;34m(\u001b[0m\u001b[0margmin\u001b[0m\u001b[0;34m(\u001b[0m\u001b[0msdpvals\u001b[0m\u001b[0;34m)\u001b[0m\u001b[0;34m)\u001b[0m\u001b[0;34m\u001b[0m\u001b[0;34m\u001b[0m\u001b[0m\n\u001b[0m\u001b[1;32m     13\u001b[0m     \u001b[0;32mreturn\u001b[0m \u001b[0;36m2\u001b[0m\u001b[0;34m*\u001b[0m\u001b[0mmin\u001b[0m\u001b[0;34m(\u001b[0m\u001b[0msdpvals\u001b[0m\u001b[0;34m)\u001b[0m\u001b[0;34m\u001b[0m\u001b[0;34m\u001b[0m\u001b[0m\n",
      "\u001b[0;31mNameError\u001b[0m: name 'argmin' is not defined"
     ]
    }
   ],
   "source": [
    "n=2\n",
    "scal = []\n",
    "sdp = []\n",
    "for run in range(20):\n",
    "    \n",
    "    spec = np.random.randn(n**2)\n",
    "    uni = random_orthogonal(n**2)\n",
    "    scal.append(scalingot(spec,uni,n, 20))\n",
    "    spec.sort()\n",
    "    sdpvals = []\n",
    "    sdp.append(formula2(spec,n))\n",
    "plt.scatter(scal,sdp)\n",
    "fig = plt.figure()\n",
    "ax = plt.axes()\n",
    "x = np.linspace(-1, .0001, 2)\n",
    "ax.plot(x, x);\n",
    "\n"
   ]
  },
  {
   "cell_type": "markdown",
   "metadata": {},
   "source": []
  },
  {
   "cell_type": "code",
   "execution_count": 17,
   "metadata": {
    "scrolled": true
   },
   "outputs": [
    {
     "data": {
      "text/plain": [
       "<matplotlib.collections.PathCollection at 0x123b37d30>"
      ]
     },
     "execution_count": 17,
     "metadata": {},
     "output_type": "execute_result"
    },
    {
     "data": {
      "image/png": "[encoded data removed]",
      "text/plain": [
       "<Figure size 432x288 with 1 Axes>"
      ]
     },
     "metadata": {
      "needs_background": "light"
     },
     "output_type": "display_data"
    }
   ],
   "source": [
    "x = np.arange(-1,4)\n",
    "plt.plot(x,x)\n",
    "plt.scatter(scal,sdp)"
   ]
  },
  {
   "cell_type": "markdown",
   "metadata": {},
   "source": [
    "# Conjecture\n",
    "I want to see if $$cap(\\rho) = - \\inf_{\\tau:\\mu(\\tau) = 0} \\sum_{i = 1}^{n^2} \\tau_i \\ln \\tau_i - \\sum_{i = 1}^{n^2} (\\tau_i - \\tau_{i + 1}) pm_k( u^\\dagger \\rho u).$$\n",
    "I can imagine optimizing this by \n",
    "1. directly optimizing over it parameterized this way\n",
    "2. Parameterizing by projections \n",
    "3. Optimizing over a general linear matrix and taking the QR part out.\n"
   ]
  },
  {
   "cell_type": "markdown",
   "metadata": {},
   "source": [
    "**Attempt 1: Optimizing directly**: First I want to check if I can just optimize directly. Perhaps I actually need a formula for the gradients, etc. So I need the constraints  \n",
    "1. $ \\sum_{j} u_{ij} u_{ik} = \\delta_{ik}$.\n",
    "2. $\\tau_1 \\geq \\dots \\geq \\tau_{n^2} \\geq 0$.\n",
    "3. $\\langle I \\otimes E_{ij}, \\sum \\tau_i u_i u_i^\\dagger \\rangle = \\delta_{ij}/n$ and same for $E_{ij} \\otimes I$."
   ]
  },
  {
   "cell_type": "code",
   "execution_count": 153,
   "metadata": {},
   "outputs": [],
   "source": [
    "#test scipy optimize.\n",
    "def f(x,z):\n",
    "    #can use np arrays.\n",
    "    x = np.array(x)\n",
    "    return z*x[0]**2 + x[0]*(x[1]**2 - 1)\n",
    "def g(x):\n",
    "    x = np.array(x)\n",
    "    return x[0][0] + x[1][1]\n",
    "\n",
    "\n",
    "cons = ({'type': 'ineq', 'fun': lambda x:  x[0] - 2 * x[1] + 2})\n",
    "cons2 = ({'type': 'ineq', 'fun': lambda x:  x[0][0]*x[1][1] -  x[0][1]* x[1][0]})"
   ]
  },
  {
   "cell_type": "code",
   "execution_count": 154,
   "metadata": {},
   "outputs": [
    {
     "data": {
      "text/plain": [
       "     fun: -0.2499998845211134\n",
       "     jac: array([-0.00033974,  0.00041609])\n",
       " message: 'Optimization terminated successfully.'\n",
       "    nfev: 29\n",
       "     nit: 7\n",
       "    njev: 7\n",
       "  status: 0\n",
       " success: True\n",
       "       x: array([4.99830034e-01, 4.16221235e-04])"
      ]
     },
     "execution_count": 154,
     "metadata": {},
     "output_type": "execute_result"
    }
   ],
   "source": [
    "z = 1\n",
    "scipy.optimize.minimize(lambda x: f(x,1), [1,1], constraints=cons)"
   ]
  },
  {
   "cell_type": "code",
   "execution_count": 34,
   "metadata": {
    "collapsed": true
   },
   "outputs": [
    {
     "ename": "IndexError",
     "evalue": "invalid index to scalar variable.",
     "output_type": "error",
     "traceback": [
      "\u001b[0;31m---------------------------------------------------------------------------\u001b[0m",
      "\u001b[0;31mIndexError\u001b[0m                                Traceback (most recent call last)",
      "\u001b[0;32m<ipython-input-34-ec017dc7c145>\u001b[0m in \u001b[0;36m<module>\u001b[0;34m\u001b[0m\n\u001b[0;32m----> 1\u001b[0;31m \u001b[0mscipy\u001b[0m\u001b[0;34m.\u001b[0m\u001b[0moptimize\u001b[0m\u001b[0;34m.\u001b[0m\u001b[0mminimize\u001b[0m\u001b[0;34m(\u001b[0m\u001b[0mg\u001b[0m\u001b[0;34m,\u001b[0m \u001b[0;34m[\u001b[0m\u001b[0;34m[\u001b[0m\u001b[0;36m1\u001b[0m\u001b[0;34m,\u001b[0m\u001b[0;36m1\u001b[0m\u001b[0;34m]\u001b[0m\u001b[0;34m,\u001b[0m\u001b[0;34m[\u001b[0m\u001b[0;36m1\u001b[0m\u001b[0;34m,\u001b[0m\u001b[0;34m-\u001b[0m\u001b[0;36m1\u001b[0m\u001b[0;34m]\u001b[0m\u001b[0;34m]\u001b[0m\u001b[0;34m,\u001b[0m \u001b[0mconstraints\u001b[0m\u001b[0;34m=\u001b[0m\u001b[0mcons2\u001b[0m\u001b[0;34m)\u001b[0m\u001b[0;34m\u001b[0m\u001b[0;34m\u001b[0m\u001b[0m\n\u001b[0m",
      "\u001b[0;32m/usr/local/lib/python3.7/site-packages/scipy/optimize/_minimize.py\u001b[0m in \u001b[0;36mminimize\u001b[0;34m(fun, x0, args, method, jac, hess, hessp, bounds, constraints, tol, callback, options)\u001b[0m\n\u001b[1;32m    616\u001b[0m     \u001b[0;32melif\u001b[0m \u001b[0mmeth\u001b[0m \u001b[0;34m==\u001b[0m \u001b[0;34m'slsqp'\u001b[0m\u001b[0;34m:\u001b[0m\u001b[0;34m\u001b[0m\u001b[0;34m\u001b[0m\u001b[0m\n\u001b[1;32m    617\u001b[0m         return _minimize_slsqp(fun, x0, args, jac, bounds,\n\u001b[0;32m--> 618\u001b[0;31m                                constraints, callback=callback, **options)\n\u001b[0m\u001b[1;32m    619\u001b[0m     \u001b[0;32melif\u001b[0m \u001b[0mmeth\u001b[0m \u001b[0;34m==\u001b[0m \u001b[0;34m'trust-constr'\u001b[0m\u001b[0;34m:\u001b[0m\u001b[0;34m\u001b[0m\u001b[0;34m\u001b[0m\u001b[0m\n\u001b[1;32m    620\u001b[0m         return _minimize_trustregion_constr(fun, x0, args, jac, hess, hessp,\n",
      "\u001b[0;32m/usr/local/lib/python3.7/site-packages/scipy/optimize/slsqp.py\u001b[0m in \u001b[0;36m_minimize_slsqp\u001b[0;34m(func, x0, args, jac, bounds, constraints, maxiter, ftol, iprint, disp, eps, callback, **unknown_options)\u001b[0m\n\u001b[1;32m    313\u001b[0m               for c in cons['eq']]))\n\u001b[1;32m    314\u001b[0m     mieq = sum(map(len, [atleast_1d(c['fun'](x, *c['args']))\n\u001b[0;32m--> 315\u001b[0;31m                for c in cons['ineq']]))\n\u001b[0m\u001b[1;32m    316\u001b[0m     \u001b[0;31m# m = The total number of constraints\u001b[0m\u001b[0;34m\u001b[0m\u001b[0;34m\u001b[0m\u001b[0;34m\u001b[0m\u001b[0m\n\u001b[1;32m    317\u001b[0m     \u001b[0mm\u001b[0m \u001b[0;34m=\u001b[0m \u001b[0mmeq\u001b[0m \u001b[0;34m+\u001b[0m \u001b[0mmieq\u001b[0m\u001b[0;34m\u001b[0m\u001b[0;34m\u001b[0m\u001b[0m\n",
      "\u001b[0;32m/usr/local/lib/python3.7/site-packages/scipy/optimize/slsqp.py\u001b[0m in \u001b[0;36m<listcomp>\u001b[0;34m(.0)\u001b[0m\n\u001b[1;32m    313\u001b[0m               for c in cons['eq']]))\n\u001b[1;32m    314\u001b[0m     mieq = sum(map(len, [atleast_1d(c['fun'](x, *c['args']))\n\u001b[0;32m--> 315\u001b[0;31m                for c in cons['ineq']]))\n\u001b[0m\u001b[1;32m    316\u001b[0m     \u001b[0;31m# m = The total number of constraints\u001b[0m\u001b[0;34m\u001b[0m\u001b[0;34m\u001b[0m\u001b[0;34m\u001b[0m\u001b[0m\n\u001b[1;32m    317\u001b[0m     \u001b[0mm\u001b[0m \u001b[0;34m=\u001b[0m \u001b[0mmeq\u001b[0m \u001b[0;34m+\u001b[0m \u001b[0mmieq\u001b[0m\u001b[0;34m\u001b[0m\u001b[0;34m\u001b[0m\u001b[0m\n",
      "\u001b[0;32m<ipython-input-31-81312ec10512>\u001b[0m in \u001b[0;36m<lambda>\u001b[0;34m(x)\u001b[0m\n\u001b[1;32m      6\u001b[0m \u001b[0;34m\u001b[0m\u001b[0m\n\u001b[1;32m      7\u001b[0m \u001b[0mcons\u001b[0m \u001b[0;34m=\u001b[0m \u001b[0;34m(\u001b[0m\u001b[0;34m{\u001b[0m\u001b[0;34m'type'\u001b[0m\u001b[0;34m:\u001b[0m \u001b[0;34m'ineq'\u001b[0m\u001b[0;34m,\u001b[0m \u001b[0;34m'fun'\u001b[0m\u001b[0;34m:\u001b[0m \u001b[0;32mlambda\u001b[0m \u001b[0mx\u001b[0m\u001b[0;34m:\u001b[0m  \u001b[0mx\u001b[0m\u001b[0;34m[\u001b[0m\u001b[0;36m0\u001b[0m\u001b[0;34m]\u001b[0m \u001b[0;34m-\u001b[0m \u001b[0;36m2\u001b[0m \u001b[0;34m*\u001b[0m \u001b[0mx\u001b[0m\u001b[0;34m[\u001b[0m\u001b[0;36m1\u001b[0m\u001b[0;34m]\u001b[0m \u001b[0;34m+\u001b[0m \u001b[0;36m2\u001b[0m\u001b[0;34m}\u001b[0m\u001b[0;34m)\u001b[0m\u001b[0;34m\u001b[0m\u001b[0;34m\u001b[0m\u001b[0m\n\u001b[0;32m----> 8\u001b[0;31m \u001b[0mcons2\u001b[0m \u001b[0;34m=\u001b[0m \u001b[0;34m(\u001b[0m\u001b[0;34m{\u001b[0m\u001b[0;34m'type'\u001b[0m\u001b[0;34m:\u001b[0m \u001b[0;34m'ineq'\u001b[0m\u001b[0;34m,\u001b[0m \u001b[0;34m'fun'\u001b[0m\u001b[0;34m:\u001b[0m \u001b[0;32mlambda\u001b[0m \u001b[0mx\u001b[0m\u001b[0;34m:\u001b[0m  \u001b[0mx\u001b[0m\u001b[0;34m[\u001b[0m\u001b[0;36m0\u001b[0m\u001b[0;34m]\u001b[0m\u001b[0;34m[\u001b[0m\u001b[0;36m0\u001b[0m\u001b[0;34m]\u001b[0m\u001b[0;34m*\u001b[0m\u001b[0mx\u001b[0m\u001b[0;34m[\u001b[0m\u001b[0;36m1\u001b[0m\u001b[0;34m]\u001b[0m\u001b[0;34m[\u001b[0m\u001b[0;36m1\u001b[0m\u001b[0;34m]\u001b[0m \u001b[0;34m-\u001b[0m  \u001b[0mx\u001b[0m\u001b[0;34m[\u001b[0m\u001b[0;36m0\u001b[0m\u001b[0;34m]\u001b[0m\u001b[0;34m[\u001b[0m\u001b[0;36m1\u001b[0m\u001b[0;34m]\u001b[0m\u001b[0;34m*\u001b[0m \u001b[0mx\u001b[0m\u001b[0;34m[\u001b[0m\u001b[0;36m1\u001b[0m\u001b[0;34m]\u001b[0m\u001b[0;34m[\u001b[0m\u001b[0;36m0\u001b[0m\u001b[0;34m]\u001b[0m\u001b[0;34m}\u001b[0m\u001b[0;34m)\u001b[0m\u001b[0;34m\u001b[0m\u001b[0;34m\u001b[0m\u001b[0m\n\u001b[0m",
      "\u001b[0;31mIndexError\u001b[0m: invalid index to scalar variable."
     ]
    }
   ],
   "source": [
    "scipy.optimize.minimize(g, [[1,1],[1,-1]], constraints=cons2)"
   ]
  },
  {
   "cell_type": "code",
   "execution_count": 44,
   "metadata": {},
   "outputs": [],
   "source": [
    "#mat should be n \\times n array.\n",
    "#computes the log of kth principal minor\n",
    "def lpm(mat, k):\n",
    "    mat = mat[:k,:k]\n",
    "    return np.log(scipy.linalg.det(mat))\n",
    "    "
   ]
  },
  {
   "cell_type": "code",
   "execution_count": 66,
   "metadata": {},
   "outputs": [
    {
     "data": {
      "text/plain": [
       "0.0"
      ]
     },
     "execution_count": 66,
     "metadata": {},
     "output_type": "execute_result"
    }
   ],
   "source": [
    "mat = np.array([[1,0],[0,.5]])\n",
    "lpm(mat,1)"
   ]
  },
  {
   "cell_type": "code",
   "execution_count": 182,
   "metadata": {},
   "outputs": [],
   "source": [
    "#computes the objective function in the markdown cell above\n",
    "def keyl(x, rho, N):\n",
    "    tau, uni = separate(x, N)\n",
    "    #rho = np.array(rho)\n",
    "    #uni= np.array(uni)\n",
    "    tau.sort()\n",
    "    tau = list(tau)\n",
    "    tau.append(0.0)\n",
    "    tau = np.array(tau)\n",
    "    uni = np.array(uni)\n",
    "    #print(np.shape(uni))\n",
    "    uni = uni.reshape([N,N])\n",
    "    #print(np.shape(uni))\n",
    "    \n",
    "    mat = (np.conj(uni).T).dot(rho.dot(uni))\n",
    "    ent = 0\n",
    "    for i in range(N):\n",
    "        ent+= tau[i]*np.log(tau[i])- (tau[i] + tau[i + 1])*lpm(mat,i+1)\n",
    "    return ent\n",
    "    \n",
    "    \n",
    "    \n",
    "    "
   ]
  },
  {
   "cell_type": "code",
   "execution_count": 179,
   "metadata": {},
   "outputs": [],
   "source": [
    "def taucons(x, N):\n",
    "    tau, uni = separate(x, N)\n",
    "    tau.sort()\n",
    "    return tau[-1]"
   ]
  },
  {
   "cell_type": "code",
   "execution_count": 189,
   "metadata": {},
   "outputs": [],
   "source": [
    "def tracecons(x,N):\n",
    "    tau, uni = separate(x, N)\n",
    "    return sum(tau)-1\n",
    "\n"
   ]
  },
  {
   "cell_type": "code",
   "execution_count": 186,
   "metadata": {},
   "outputs": [],
   "source": [
    "def unicons(x,i,j,N):\n",
    "    tau, uni = separate(x, N)\n",
    "    uni= np.array(uni)\n",
    "    uni = uni.reshape([N,N])\n",
    "    return uni.dot(uni.T)[i,j] - np.eye(N)[i,j]"
   ]
  },
  {
   "cell_type": "code",
   "execution_count": 98,
   "metadata": {},
   "outputs": [],
   "source": [
    "def partial(mat,i,j,n):\n",
    "    #requires that mat is N = n^2 by n^2\n",
    "    return np.trace(np.dot(np.kron(np.kron(np.eye(1,n,i), np.eye(n,1,-j)), np.eye(n,n)),mat.T)) "
   ]
  },
  {
   "cell_type": "code",
   "execution_count": 130,
   "metadata": {},
   "outputs": [],
   "source": [
    "def partialcons(uni, tau, i, j, n):\n",
    "    mat = uni.dot(rho.dot(uni.T))\n",
    "    return partial(mat,i,j,n)- np.eye(n)[i,j]/n"
   ]
  },
  {
   "cell_type": "code",
   "execution_count": 100,
   "metadata": {},
   "outputs": [],
   "source": [
    "def separate(x,N):\n",
    "    tau = x[:N]\n",
    "    uni = x[N:]\n",
    "    return tau, uni"
   ]
  },
  {
   "cell_type": "markdown",
   "metadata": {},
   "source": [
    "**Try with just unitary constraint;** should get 0."
   ]
  },
  {
   "cell_type": "code",
   "execution_count": 195,
   "metadata": {},
   "outputs": [],
   "source": [
    "#initialize:\n",
    "n= 2\n",
    "N = n**2\n",
    "#set initial values\n",
    "tau0 = np.ones(N)/N\n",
    "uni0 = np.eye(N)/N\n",
    "\n",
    "#turn it into one string\n",
    "x0 = list(tau0)\n",
    "x0.extend(list(uni0.reshape(N**2)))\n",
    "#print(x0)\n",
    "\n",
    "#initialize rho randomly\n",
    "rho = np.random.randn(N,N)\n",
    "rho = rho.dot(rho.T)\n",
    "rho = rho/np.trace(rho)\n",
    "#print(rho)\n",
    "\n",
    "\n",
    "#need constraint functions that depend on entire string x\n",
    "cons = []\n",
    "cons.append({'type': 'ineq', 'fun': lambda x: taucons(x,N)})\n",
    "cons.append({'type': 'eq', 'fun': lambda x: tracecons(x,N)})\n",
    "\n",
    "\n",
    "\n",
    "for i in range(N):\n",
    "    for j in range(N):\n",
    "        cons.append({'type': 'eq', 'fun': lambda x: unicons(x,i,j,N)})\n",
    "\n",
    "\n",
    "#keyl(x0,rho,N)\n"
   ]
  },
  {
   "cell_type": "markdown",
   "metadata": {},
   "source": [
    "**Ok, looks like this fails. Upon some googling, could have to do with continuity.**"
   ]
  },
  {
   "cell_type": "code",
   "execution_count": 216,
   "metadata": {
    "scrolled": true
   },
   "outputs": [
    {
     "name": "stderr",
     "output_type": "stream",
     "text": [
      "/usr/local/lib/python3.7/site-packages/scipy/optimize/_minimize.py:522: RuntimeWarning: Method BFGS cannot handle constraints nor bounds.\n",
      "  RuntimeWarning)\n",
      "/usr/local/lib/python3.7/site-packages/ipykernel_launcher.py:18: RuntimeWarning: invalid value encountered in log\n",
      "/usr/local/lib/python3.7/site-packages/ipykernel_launcher.py:18: RuntimeWarning: invalid value encountered in log\n",
      "/usr/local/lib/python3.7/site-packages/ipykernel_launcher.py:18: RuntimeWarning: invalid value encountered in log\n"
     ]
    },
    {
     "data": {
      "text/plain": [
       "      fun: nan\n",
       " hess_inv: array([[1, 0, 0, 0, 0, 0, 0, 0, 0, 0, 0, 0, 0, 0, 0, 0, 0, 0, 0, 0],\n",
       "       [0, 1, 0, 0, 0, 0, 0, 0, 0, 0, 0, 0, 0, 0, 0, 0, 0, 0, 0, 0],\n",
       "       [0, 0, 1, 0, 0, 0, 0, 0, 0, 0, 0, 0, 0, 0, 0, 0, 0, 0, 0, 0],\n",
       "       [0, 0, 0, 1, 0, 0, 0, 0, 0, 0, 0, 0, 0, 0, 0, 0, 0, 0, 0, 0],\n",
       "       [0, 0, 0, 0, 1, 0, 0, 0, 0, 0, 0, 0, 0, 0, 0, 0, 0, 0, 0, 0],\n",
       "       [0, 0, 0, 0, 0, 1, 0, 0, 0, 0, 0, 0, 0, 0, 0, 0, 0, 0, 0, 0],\n",
       "       [0, 0, 0, 0, 0, 0, 1, 0, 0, 0, 0, 0, 0, 0, 0, 0, 0, 0, 0, 0],\n",
       "       [0, 0, 0, 0, 0, 0, 0, 1, 0, 0, 0, 0, 0, 0, 0, 0, 0, 0, 0, 0],\n",
       "       [0, 0, 0, 0, 0, 0, 0, 0, 1, 0, 0, 0, 0, 0, 0, 0, 0, 0, 0, 0],\n",
       "       [0, 0, 0, 0, 0, 0, 0, 0, 0, 1, 0, 0, 0, 0, 0, 0, 0, 0, 0, 0],\n",
       "       [0, 0, 0, 0, 0, 0, 0, 0, 0, 0, 1, 0, 0, 0, 0, 0, 0, 0, 0, 0],\n",
       "       [0, 0, 0, 0, 0, 0, 0, 0, 0, 0, 0, 1, 0, 0, 0, 0, 0, 0, 0, 0],\n",
       "       [0, 0, 0, 0, 0, 0, 0, 0, 0, 0, 0, 0, 1, 0, 0, 0, 0, 0, 0, 0],\n",
       "       [0, 0, 0, 0, 0, 0, 0, 0, 0, 0, 0, 0, 0, 1, 0, 0, 0, 0, 0, 0],\n",
       "       [0, 0, 0, 0, 0, 0, 0, 0, 0, 0, 0, 0, 0, 0, 1, 0, 0, 0, 0, 0],\n",
       "       [0, 0, 0, 0, 0, 0, 0, 0, 0, 0, 0, 0, 0, 0, 0, 1, 0, 0, 0, 0],\n",
       "       [0, 0, 0, 0, 0, 0, 0, 0, 0, 0, 0, 0, 0, 0, 0, 0, 1, 0, 0, 0],\n",
       "       [0, 0, 0, 0, 0, 0, 0, 0, 0, 0, 0, 0, 0, 0, 0, 0, 0, 1, 0, 0],\n",
       "       [0, 0, 0, 0, 0, 0, 0, 0, 0, 0, 0, 0, 0, 0, 0, 0, 0, 0, 1, 0],\n",
       "       [0, 0, 0, 0, 0, 0, 0, 0, 0, 0, 0, 0, 0, 0, 0, 0, 0, 0, 0, 1]])\n",
       "      jac: array([nan, nan, nan, nan, nan, nan, nan, nan, nan, nan, nan, nan, nan,\n",
       "       nan, nan, nan, nan, nan, nan, nan])\n",
       "  message: 'Desired error not necessarily achieved due to precision loss.'\n",
       "     nfev: 2464\n",
       "      nit: 1\n",
       "     njev: 112\n",
       "   status: 2\n",
       "  success: False\n",
       "        x: array([-493.11768115, -493.11768115, -493.11768115, -493.11768115,\n",
       "        203.48371145,    0.        ,    0.        ,    0.        ,\n",
       "          6.88441875,  145.41693477,    0.        ,    0.        ,\n",
       "         31.18987836,  -26.86493347,   87.35016155,    0.        ,\n",
       "       -136.84147687,  -53.15897028,   43.65262995,   29.28338488])"
      ]
     },
     "execution_count": 216,
     "metadata": {},
     "output_type": "execute_result"
    }
   ],
   "source": [
    "scipy.optimize.minimize(lambda x: keyl(x,rho,N), x0,constraints=cons, method = 'BFGS')\n",
    "\n"
   ]
  },
  {
   "cell_type": "markdown",
   "metadata": {},
   "source": [
    "**Attempt 2: parameterize by $\\Delta \\tau_i$**"
   ]
  },
  {
   "cell_type": "code",
   "execution_count": 208,
   "metadata": {},
   "outputs": [],
   "source": [
    "#computes the objective function in the markdown cell above\n",
    "def deltakeyl(x, rho, N):\n",
    "    delta, uni = separate(x, N)\n",
    "    #rho = np.array(rho)\n",
    "    #uni= np.array(uni)\n",
    "    delta = np.array(delta)\n",
    "    uni = np.array(uni)\n",
    "    #print(np.shape(uni))\n",
    "    uni = uni.reshape([N,N])\n",
    "    #print(np.shape(uni))\n",
    "    \n",
    "    mat = (np.conj(uni).T).dot(rho.dot(uni))\n",
    "    ent = 0\n",
    "    tau = 0\n",
    "    for i in range(N):\n",
    "        tau+=delta[i]\n",
    "        ent+= tau*np.log(tau)- delta[i]*lpm(mat,i+1)\n",
    "    return ent\n",
    "    \n",
    "    \n",
    "    \n",
    "    "
   ]
  },
  {
   "cell_type": "code",
   "execution_count": 199,
   "metadata": {},
   "outputs": [],
   "source": [
    "def deltacons(x, i, N):\n",
    "    delta, uni = separate(x, N)\n",
    "    return delta[i]"
   ]
  },
  {
   "cell_type": "code",
   "execution_count": 200,
   "metadata": {},
   "outputs": [],
   "source": [
    "def deltatracecons(x,N):\n",
    "    delta, uni = separate(x, N)\n",
    "    s=0\n",
    "    for i in range(len(delta)):\n",
    "        s+=(i + 1)*delta[i]\n",
    "    return s-1\n",
    "\n"
   ]
  },
  {
   "cell_type": "code",
   "execution_count": 212,
   "metadata": {},
   "outputs": [
    {
     "name": "stdout",
     "output_type": "stream",
     "text": [
      "[0.   0.   0.   0.25]\n"
     ]
    }
   ],
   "source": [
    "#initialize:\n",
    "n= 2\n",
    "N = n**2\n",
    "#set initial values\n",
    "delta0 = np.zeros(N)\n",
    "delta0[-1] = 1/N\n",
    "print(delta0)\n",
    "uni0 = np.eye(N)/N\n",
    "\n",
    "#turn it into one string\n",
    "x0 = list(tau0)\n",
    "x0.extend(list(uni0.reshape(N**2)))\n",
    "#print(x0)\n",
    "\n",
    "#initialize rho randomly\n",
    "rho = np.random.randn(N,N)\n",
    "rho = rho.dot(rho.T)\n",
    "rho = rho/np.trace(rho)\n",
    "#print(rho)\n",
    "\n",
    "\n",
    "#need constraint functions that depend on entire string x\n",
    "cons = []\n",
    "cons.append({'type': 'eq', 'fun': lambda x: deltatracecons(x,N)})\n",
    "\n",
    "for i in range(N):\n",
    "    cons.append({'type': 'ineq', 'fun': lambda x: deltacons(x,i,N)})\n",
    "\n",
    "\n",
    "\n",
    "\n",
    "for i in range(N):\n",
    "    for j in range(i):\n",
    "        cons.append({'type': 'eq', 'fun': lambda x: unicons(x,i,j,N)})\n",
    "\n",
    "\n",
    "#keyl(x0,rho,N)\n"
   ]
  },
  {
   "cell_type": "code",
   "execution_count": 219,
   "metadata": {
    "scrolled": true
   },
   "outputs": [
    {
     "data": {
      "text/plain": [
       "     fun: 10.892585334174402\n",
       "     jac: array([ 6.15909171e+00,  1.03264091e+01,  1.54538453e+01,  2.16309950e+01,\n",
       "       -7.99999988e+00,  0.00000000e+00, -1.19209290e-07, -1.19209290e-07,\n",
       "       -2.37120867e-01, -5.99999988e+00,  0.00000000e+00,  0.00000000e+00,\n",
       "       -1.07427633e+00,  9.25311565e-01, -4.00000000e+00,  0.00000000e+00,\n",
       "        4.71324492e+00,  1.83095980e+00, -1.50353229e+00, -2.00000000e+00])\n",
       " message: 'Singular matrix C in LSQ subproblem'\n",
       "    nfev: 22\n",
       "     nit: 1\n",
       "    njev: 1\n",
       "  status: 6\n",
       " success: False\n",
       "       x: array([0.25, 0.25, 0.25, 0.25, 0.25, 0.  , 0.  , 0.  , 0.  , 0.25, 0.  ,\n",
       "       0.  , 0.  , 0.  , 0.25, 0.  , 0.  , 0.  , 0.  , 0.25])"
      ]
     },
     "execution_count": 219,
     "metadata": {},
     "output_type": "execute_result"
    }
   ],
   "source": [
    "scipy.optimize.minimize(lambda x: deltakeyl(x,rho,N), x0,constraints=cons, method ='SLSQP')\n",
    "#still doing it.\n"
   ]
  },
  {
   "cell_type": "code",
   "execution_count": 163,
   "metadata": {
    "collapsed": true
   },
   "outputs": [
    {
     "ename": "TypeError",
     "evalue": "only integer scalar arrays can be converted to a scalar index",
     "output_type": "error",
     "traceback": [
      "\u001b[0;31m---------------------------------------------------------------------------\u001b[0m",
      "\u001b[0;31mTypeError\u001b[0m                                 Traceback (most recent call last)",
      "\u001b[0;32m<ipython-input-163-81766de4686c>\u001b[0m in \u001b[0;36m<module>\u001b[0;34m\u001b[0m\n\u001b[1;32m      7\u001b[0m \u001b[0muni2\u001b[0m \u001b[0;34m=\u001b[0m \u001b[0mnp\u001b[0m\u001b[0;34m.\u001b[0m\u001b[0mkron\u001b[0m\u001b[0;34m(\u001b[0m\u001b[0muni1\u001b[0m\u001b[0;34m,\u001b[0m \u001b[0mnp\u001b[0m\u001b[0;34m.\u001b[0m\u001b[0meye\u001b[0m\u001b[0;34m(\u001b[0m\u001b[0;36m2\u001b[0m\u001b[0;34m)\u001b[0m\u001b[0;34m)\u001b[0m\u001b[0;34m\u001b[0m\u001b[0;34m\u001b[0m\u001b[0m\n\u001b[1;32m      8\u001b[0m \u001b[0mrho1\u001b[0m \u001b[0;34m=\u001b[0m \u001b[0mnp\u001b[0m\u001b[0;34m.\u001b[0m\u001b[0marray\u001b[0m\u001b[0;34m(\u001b[0m\u001b[0;34m[\u001b[0m\u001b[0;34m[\u001b[0m\u001b[0;36m1\u001b[0m\u001b[0;34m,\u001b[0m\u001b[0;36m0\u001b[0m\u001b[0;34m]\u001b[0m\u001b[0;34m,\u001b[0m\u001b[0;34m[\u001b[0m\u001b[0;36m0\u001b[0m\u001b[0;34m,\u001b[0m\u001b[0;36m.5\u001b[0m\u001b[0;34m]\u001b[0m\u001b[0;34m]\u001b[0m\u001b[0;34m)\u001b[0m\u001b[0;34m\u001b[0m\u001b[0;34m\u001b[0m\u001b[0m\n\u001b[0;32m----> 9\u001b[0;31m \u001b[0mprint\u001b[0m\u001b[0;34m(\u001b[0m\u001b[0mkeyl\u001b[0m\u001b[0;34m(\u001b[0m\u001b[0mtau\u001b[0m\u001b[0;34m,\u001b[0m \u001b[0muni1\u001b[0m\u001b[0;34m,\u001b[0m \u001b[0mrho1\u001b[0m\u001b[0;34m)\u001b[0m\u001b[0;34m)\u001b[0m\u001b[0;34m\u001b[0m\u001b[0;34m\u001b[0m\u001b[0m\n\u001b[0m\u001b[1;32m     10\u001b[0m \u001b[0mprint\u001b[0m\u001b[0;34m(\u001b[0m\u001b[0municons\u001b[0m\u001b[0;34m(\u001b[0m\u001b[0muni1\u001b[0m\u001b[0;34m,\u001b[0m\u001b[0;36m0\u001b[0m\u001b[0;34m,\u001b[0m\u001b[0;36m0\u001b[0m\u001b[0;34m,\u001b[0m\u001b[0;36m2\u001b[0m\u001b[0;34m)\u001b[0m\u001b[0;34m)\u001b[0m\u001b[0;34m\u001b[0m\u001b[0;34m\u001b[0m\u001b[0m\n\u001b[1;32m     11\u001b[0m \u001b[0mprint\u001b[0m\u001b[0;34m(\u001b[0m\u001b[0mpartial\u001b[0m\u001b[0;34m(\u001b[0m\u001b[0muni2\u001b[0m\u001b[0;34m,\u001b[0m\u001b[0;36m0\u001b[0m\u001b[0;34m,\u001b[0m\u001b[0;36m1\u001b[0m\u001b[0;34m,\u001b[0m\u001b[0;36m2\u001b[0m\u001b[0;34m)\u001b[0m\u001b[0;34m)\u001b[0m\u001b[0;34m\u001b[0m\u001b[0;34m\u001b[0m\u001b[0m\n",
      "\u001b[0;32m<ipython-input-161-2e3f09a776a7>\u001b[0m in \u001b[0;36mkeyl\u001b[0;34m(x, rho, N)\u001b[0m\n\u001b[1;32m      1\u001b[0m \u001b[0;31m#computes the objective function in the markdown cell above\u001b[0m\u001b[0;34m\u001b[0m\u001b[0;34m\u001b[0m\u001b[0;34m\u001b[0m\u001b[0m\n\u001b[1;32m      2\u001b[0m \u001b[0;32mdef\u001b[0m \u001b[0mkeyl\u001b[0m\u001b[0;34m(\u001b[0m\u001b[0mx\u001b[0m\u001b[0;34m,\u001b[0m \u001b[0mrho\u001b[0m\u001b[0;34m,\u001b[0m \u001b[0mN\u001b[0m\u001b[0;34m)\u001b[0m\u001b[0;34m:\u001b[0m\u001b[0;34m\u001b[0m\u001b[0;34m\u001b[0m\u001b[0m\n\u001b[0;32m----> 3\u001b[0;31m     \u001b[0mtau\u001b[0m\u001b[0;34m,\u001b[0m \u001b[0muni\u001b[0m \u001b[0;34m=\u001b[0m \u001b[0mseparate\u001b[0m\u001b[0;34m(\u001b[0m\u001b[0mx\u001b[0m\u001b[0;34m,\u001b[0m \u001b[0mN\u001b[0m\u001b[0;34m)\u001b[0m\u001b[0;34m\u001b[0m\u001b[0;34m\u001b[0m\u001b[0m\n\u001b[0m\u001b[1;32m      4\u001b[0m     \u001b[0;31m#rho = np.array(rho)\u001b[0m\u001b[0;34m\u001b[0m\u001b[0;34m\u001b[0m\u001b[0;34m\u001b[0m\u001b[0m\n\u001b[1;32m      5\u001b[0m     \u001b[0;31m#uni= np.array(uni)\u001b[0m\u001b[0;34m\u001b[0m\u001b[0;34m\u001b[0m\u001b[0;34m\u001b[0m\u001b[0m\n",
      "\u001b[0;32m<ipython-input-100-33ee8acf7ca9>\u001b[0m in \u001b[0;36mseparate\u001b[0;34m(x, N)\u001b[0m\n\u001b[1;32m      1\u001b[0m \u001b[0;32mdef\u001b[0m \u001b[0mseparate\u001b[0m\u001b[0;34m(\u001b[0m\u001b[0mx\u001b[0m\u001b[0;34m,\u001b[0m\u001b[0mN\u001b[0m\u001b[0;34m)\u001b[0m\u001b[0;34m:\u001b[0m\u001b[0;34m\u001b[0m\u001b[0;34m\u001b[0m\u001b[0m\n\u001b[0;32m----> 2\u001b[0;31m     \u001b[0mtau\u001b[0m \u001b[0;34m=\u001b[0m \u001b[0mx\u001b[0m\u001b[0;34m[\u001b[0m\u001b[0;34m:\u001b[0m\u001b[0mN\u001b[0m\u001b[0;34m]\u001b[0m\u001b[0;34m\u001b[0m\u001b[0;34m\u001b[0m\u001b[0m\n\u001b[0m\u001b[1;32m      3\u001b[0m     \u001b[0muni\u001b[0m \u001b[0;34m=\u001b[0m \u001b[0mx\u001b[0m\u001b[0;34m[\u001b[0m\u001b[0mN\u001b[0m\u001b[0;34m:\u001b[0m\u001b[0;34m]\u001b[0m\u001b[0;34m\u001b[0m\u001b[0;34m\u001b[0m\u001b[0m\n\u001b[1;32m      4\u001b[0m     \u001b[0;32mreturn\u001b[0m \u001b[0mtau\u001b[0m\u001b[0;34m,\u001b[0m \u001b[0muni\u001b[0m\u001b[0;34m\u001b[0m\u001b[0;34m\u001b[0m\u001b[0m\n",
      "\u001b[0;31mTypeError\u001b[0m: only integer scalar arrays can be converted to a scalar index"
     ]
    }
   ],
   "source": [
    "#scratch\n",
    "tau = [.7,.3]\n",
    "uni1 = np.array([[0,1],[1,0]])\n",
    "x = tau.copy()\n",
    "x.extend(uni3)\n",
    "uni2 = np.kron(uni1, np.eye(2))\n",
    "rho1 = np.array([[1,0],[0,.5]])\n",
    "print(keyl(tau, uni1, rho1))\n",
    "print(unicons(uni1,0,0,2))\n",
    "print(partial(uni2,0,1,2))\n",
    "separate(x,2)\n",
    "uni3.reshape([2,2])"
   ]
  },
  {
   "cell_type": "code",
   "execution_count": 173,
   "metadata": {},
   "outputs": [
    {
     "name": "stdout",
     "output_type": "stream",
     "text": [
      "[1 2 3 4]\n"
     ]
    }
   ],
   "source": [
    "uni3 = np.array([1,2,3,4])\n",
    "uni3.reshape([2,2])\n",
    "print(uni3)"
   ]
  },
  {
   "cell_type": "code",
   "execution_count": 215,
   "metadata": {
    "collapsed": true
   },
   "outputs": [
    {
     "ename": "ValueError",
     "evalue": "expected square matrix",
     "output_type": "error",
     "traceback": [
      "\u001b[0;31m---------------------------------------------------------------------------\u001b[0m",
      "\u001b[0;31mValueError\u001b[0m                                Traceback (most recent call last)",
      "\u001b[0;32m<ipython-input-215-9ef2a61ab31e>\u001b[0m in \u001b[0;36m<module>\u001b[0;34m\u001b[0m\n\u001b[1;32m      4\u001b[0m        \u001b[0;34m-\u001b[0m\u001b[0;36m1.07427633e+00\u001b[0m\u001b[0;34m,\u001b[0m  \u001b[0;36m9.25311565e-01\u001b[0m\u001b[0;34m,\u001b[0m \u001b[0;34m-\u001b[0m\u001b[0;36m4.00000000e+00\u001b[0m\u001b[0;34m,\u001b[0m  \u001b[0;36m0.00000000e+00\u001b[0m\u001b[0;34m,\u001b[0m\u001b[0;34m\u001b[0m\u001b[0;34m\u001b[0m\u001b[0m\n\u001b[1;32m      5\u001b[0m         4.71324492e+00,  1.83095980e+00, -1.50353229e+00, -2.00000000e+00])\n\u001b[0;32m----> 6\u001b[0;31m \u001b[0mscipy\u001b[0m\u001b[0;34m.\u001b[0m\u001b[0mlinalg\u001b[0m\u001b[0;34m.\u001b[0m\u001b[0mdet\u001b[0m\u001b[0;34m(\u001b[0m\u001b[0mx\u001b[0m\u001b[0;34m)\u001b[0m\u001b[0;34m\u001b[0m\u001b[0;34m\u001b[0m\u001b[0m\n\u001b[0m",
      "\u001b[0;32m/usr/local/lib/python3.7/site-packages/scipy/linalg/basic.py\u001b[0m in \u001b[0;36mdet\u001b[0;34m(a, overwrite_a, check_finite)\u001b[0m\n\u001b[1;32m   1034\u001b[0m     \u001b[0ma1\u001b[0m \u001b[0;34m=\u001b[0m \u001b[0m_asarray_validated\u001b[0m\u001b[0;34m(\u001b[0m\u001b[0ma\u001b[0m\u001b[0;34m,\u001b[0m \u001b[0mcheck_finite\u001b[0m\u001b[0;34m=\u001b[0m\u001b[0mcheck_finite\u001b[0m\u001b[0;34m)\u001b[0m\u001b[0;34m\u001b[0m\u001b[0;34m\u001b[0m\u001b[0m\n\u001b[1;32m   1035\u001b[0m     \u001b[0;32mif\u001b[0m \u001b[0mlen\u001b[0m\u001b[0;34m(\u001b[0m\u001b[0ma1\u001b[0m\u001b[0;34m.\u001b[0m\u001b[0mshape\u001b[0m\u001b[0;34m)\u001b[0m \u001b[0;34m!=\u001b[0m \u001b[0;36m2\u001b[0m \u001b[0;32mor\u001b[0m \u001b[0ma1\u001b[0m\u001b[0;34m.\u001b[0m\u001b[0mshape\u001b[0m\u001b[0;34m[\u001b[0m\u001b[0;36m0\u001b[0m\u001b[0;34m]\u001b[0m \u001b[0;34m!=\u001b[0m \u001b[0ma1\u001b[0m\u001b[0;34m.\u001b[0m\u001b[0mshape\u001b[0m\u001b[0;34m[\u001b[0m\u001b[0;36m1\u001b[0m\u001b[0;34m]\u001b[0m\u001b[0;34m:\u001b[0m\u001b[0;34m\u001b[0m\u001b[0;34m\u001b[0m\u001b[0m\n\u001b[0;32m-> 1036\u001b[0;31m         \u001b[0;32mraise\u001b[0m \u001b[0mValueError\u001b[0m\u001b[0;34m(\u001b[0m\u001b[0;34m'expected square matrix'\u001b[0m\u001b[0;34m)\u001b[0m\u001b[0;34m\u001b[0m\u001b[0;34m\u001b[0m\u001b[0m\n\u001b[0m\u001b[1;32m   1037\u001b[0m     \u001b[0moverwrite_a\u001b[0m \u001b[0;34m=\u001b[0m \u001b[0moverwrite_a\u001b[0m \u001b[0;32mor\u001b[0m \u001b[0m_datacopied\u001b[0m\u001b[0;34m(\u001b[0m\u001b[0ma1\u001b[0m\u001b[0;34m,\u001b[0m \u001b[0ma\u001b[0m\u001b[0;34m)\u001b[0m\u001b[0;34m\u001b[0m\u001b[0;34m\u001b[0m\u001b[0m\n\u001b[1;32m   1038\u001b[0m     \u001b[0mfdet\u001b[0m\u001b[0;34m,\u001b[0m \u001b[0;34m=\u001b[0m \u001b[0mget_flinalg_funcs\u001b[0m\u001b[0;34m(\u001b[0m\u001b[0;34m(\u001b[0m\u001b[0;34m'det'\u001b[0m\u001b[0;34m,\u001b[0m\u001b[0;34m)\u001b[0m\u001b[0;34m,\u001b[0m \u001b[0;34m(\u001b[0m\u001b[0ma1\u001b[0m\u001b[0;34m,\u001b[0m\u001b[0;34m)\u001b[0m\u001b[0;34m)\u001b[0m\u001b[0;34m\u001b[0m\u001b[0;34m\u001b[0m\u001b[0m\n",
      "\u001b[0;31mValueError\u001b[0m: expected square matrix"
     ]
    }
   ],
   "source": [
    "x = np.array([ 6.15909171e+00,  1.03264091e+01,  1.54538453e+01,  2.16309950e+01,\n",
    "       -7.99999988e+00,  0.00000000e+00, -1.19209290e-07, -1.19209290e-07,\n",
    "       -2.37120867e-01, -5.99999988e+00,  0.00000000e+00,  0.00000000e+00,\n",
    "       -1.07427633e+00,  9.25311565e-01, -4.00000000e+00,  0.00000000e+00,\n",
    "        4.71324492e+00,  1.83095980e+00, -1.50353229e+00, -2.00000000e+00])\n",
    "scipy.linalg.det(x)"
   ]
  },
  {
   "cell_type": "code",
   "execution_count": null,
   "metadata": {},
   "outputs": [],
   "source": []
  }
 ],
 "metadata": {
  "kernelspec": {
   "display_name": "Python 3",
   "language": "python",
   "name": "python3"
  },
  "language_info": {
   "codemirror_mode": {
    "name": "ipython",
    "version": 3
   },
   "file_extension": ".py",
   "mimetype": "text/x-python",
   "name": "python",
   "nbconvert_exporter": "python",
   "pygments_lexer": "ipython3",
   "version": "3.7.1"
  }
 },
 "nbformat": 4,
 "nbformat_minor": 2
}
