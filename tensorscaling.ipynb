{
 "cells": [
  {
   "cell_type": "code",
   "execution_count": 1,
   "metadata": {},
   "outputs": [],
   "source": [
    "%matplotlib inline\n",
    "from tensorscaling import scale, unit_tensor, random_tensor, marginal\n",
    "import numpy as np"
   ]
  },
  {
   "cell_type": "markdown",
   "metadata": {},
   "source": [
    "# Tensor scaling"
   ]
  },
  {
   "cell_type": "markdown",
   "metadata": {},
   "source": [
    "Scale 3x3x3 unit tensor to certain non-uniform marginals:"
   ]
  },
  {
   "cell_type": "code",
   "execution_count": 2,
   "metadata": {},
   "outputs": [
    {
     "data": {
      "text/plain": [
       "Result(success=True, iterations=72, ...)"
      ]
     },
     "execution_count": 2,
     "metadata": {},
     "output_type": "execute_result"
    }
   ],
   "source": [
    "shape = [3, 3, 3]\n",
    "targets = [(.5, .25, .25), (.4, .3, .3), (.7, .2, .1)]\n",
    "\n",
    "res = scale(unit_tensor(3, 3), targets, eps=1e-4)\n",
    "res"
   ]
  },
  {
   "cell_type": "markdown",
   "metadata": {},
   "source": [
    "We can also access the scaling matrices and the final scaled state:"
   ]
  },
  {
   "cell_type": "code",
   "execution_count": 3,
   "metadata": {},
   "outputs": [
    {
     "name": "stdout",
     "output_type": "stream",
     "text": [
      "[[-0.14907362+0.53353097j -0.17414545-0.76946419j  1.16184749+0.33971747j]\n",
      " [-0.16411122-0.46728859j -0.39399366-0.09599178j  0.03826509+0.24356391j]\n",
      " [-0.09684196+0.32313536j -0.29397191-0.04173878j -0.68412867+0.17580445j]]\n",
      "[[-0.17445207-0.1083611j   0.80000172+0.11127813j  0.49239761-0.60694596j]\n",
      " [-0.31446824-1.22283817j -0.04915454-0.0734045j  -0.009626  +0.06874997j]\n",
      " [ 0.32962734+0.05314404j  0.21233906+0.48340287j -0.46319779-0.25999026j]]\n",
      "[[-0.41485806+0.70843928j  0.26659378+1.05967763j -0.57279359-0.51416254j]\n",
      " [-0.26494763+0.0530557j  -0.20821574-0.52418207j -0.29644117-0.00606545j]\n",
      " [ 0.35019175+0.07862029j -0.23464085-0.06083859j -0.02421597-0.21748385j]]\n"
     ]
    }
   ],
   "source": [
    "print(res.gs[0])\n",
    "print(res.gs[1])\n",
    "print(res.gs[2])"
   ]
  },
  {
   "cell_type": "markdown",
   "metadata": {},
   "source": [
    "Let's now check that the W tensor *cannot* be scaled to uniform marginals:"
   ]
  },
  {
   "cell_type": "code",
   "execution_count": 4,
   "metadata": {},
   "outputs": [
    {
     "data": {
      "text/plain": [
       "Result(success=False, iterations=1000, ...)"
      ]
     },
     "execution_count": 4,
     "metadata": {},
     "output_type": "execute_result"
    }
   ],
   "source": [
    "shape = [2, 2, 2, 2]\n",
    "W = np.zeros(shape)\n",
    "W[1, 0, 0, 0] = W[0, 1, 0, 0] = W[0, 0, 1, 0] = W[0, 0, 0, 1] = .5\n",
    "targets = [(.5, .5)] * 4\n",
    "\n",
    "scale(W, targets, eps=1e-4, max_iterations=1000)"
   ]
  },
  {
   "cell_type": "markdown",
   "metadata": {},
   "source": [
    "# Tuples of matrices and tensors"
   ]
  },
  {
   "cell_type": "markdown",
   "metadata": {},
   "source": [
    "We can just as well only prescribe the desired spectra for subsystems.\n",
    "Note that prescribing two out of three marginals amounts to *operator scaling*."
   ]
  },
  {
   "cell_type": "code",
   "execution_count": 5,
   "metadata": {},
   "outputs": [
    {
     "data": {
      "text/plain": [
       "Result(success=True, iterations=27, ...)"
      ]
     },
     "execution_count": 5,
     "metadata": {},
     "output_type": "execute_result"
    }
   ],
   "source": [
    "shape = [3, 3, 3]\n",
    "targets = [(.4, .3, .3), (.7, .2, .1)]\n",
    "\n",
    "res = scale(unit_tensor(3, 3), targets, eps=1e-6)\n",
    "res"
   ]
  },
  {
   "cell_type": "markdown",
   "metadata": {},
   "source": [
    "Indeed, the last two marginals are as prescribed, while the first marginal is arbitrary."
   ]
  },
  {
   "cell_type": "code",
   "execution_count": 6,
   "metadata": {},
   "outputs": [
    {
     "name": "stdout",
     "output_type": "stream",
     "text": [
      "[[0.38071+0.j      0.01339+0.00901j 0.00572-0.00352j]\n",
      " [0.01339-0.00901j 0.31782+0.j      0.00148-0.00277j]\n",
      " [0.00572+0.00352j 0.00148+0.00277j 0.30147+0.j     ]]\n",
      "[[ 0.4+0.j -0. -0.j -0. -0.j]\n",
      " [-0. +0.j  0.3+0.j  0. +0.j]\n",
      " [-0. +0.j  0. -0.j  0.3+0.j]]\n",
      "[[ 0.7+0.j -0. +0.j -0. +0.j]\n",
      " [-0. +0.j  0.2+0.j -0. +0.j]\n",
      " [-0. -0.j -0. -0.j  0.1+0.j]]\n"
     ]
    }
   ],
   "source": [
    "print(marginal(res.psi, 0).round(5))\n",
    "print(marginal(res.psi, 1).round(5))\n",
    "print(marginal(res.psi, 2).round(5))"
   ]
  },
  {
   "cell_type": "code",
   "execution_count": null,
   "metadata": {},
   "outputs": [],
   "source": []
  }
 ],
 "metadata": {
  "kernelspec": {
   "display_name": "Python 3",
   "language": "python",
   "name": "python3"
  },
  "language_info": {
   "codemirror_mode": {
    "name": "ipython",
    "version": 3
   },
   "file_extension": ".py",
   "mimetype": "text/x-python",
   "name": "python",
   "nbconvert_exporter": "python",
   "pygments_lexer": "ipython3",
   "version": "3.7.0"
  }
 },
 "nbformat": 4,
 "nbformat_minor": 2
}
