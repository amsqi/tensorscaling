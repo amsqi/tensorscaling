{
 "cells": [
  {
   "cell_type": "code",
   "execution_count": 5,
   "metadata": {},
   "outputs": [],
   "source": [
    "%matplotlib inline\n",
    "from tensorscaling import scale, unit_tensor, random_tensor, marginal\n",
    "import numpy as np\n",
    "import matplotlib.pyplot as plt"
   ]
  },
  {
   "cell_type": "markdown",
   "metadata": {},
   "source": [
    "# Tensor scaling"
   ]
  },
  {
   "cell_type": "markdown",
   "metadata": {},
   "source": [
    "Scale 3x3x3 unit tensor to certain non-uniform marginals:"
   ]
  },
  {
   "cell_type": "code",
   "execution_count": null,
   "metadata": {},
   "outputs": [],
   "source": [
    "shape = [3, 3, 3]\n",
    "targets = [(.5, .25, .25), (.4, .3, .3), (.7, .2, .1)]\n",
    "\n",
    "res = scale(unit_tensor(3, 3), targets, eps=1e-4)\n",
    "res"
   ]
  },
  {
   "cell_type": "markdown",
   "metadata": {},
   "source": [
    "We can also access the scaling matrices and the final scaled state:"
   ]
  },
  {
   "cell_type": "code",
   "execution_count": null,
   "metadata": {},
   "outputs": [],
   "source": [
    "print(res.gs[0], \"\\n\")\n",
    "print(res.gs[1], \"\\n\")\n",
    "print(res.gs[2])"
   ]
  },
  {
   "cell_type": "markdown",
   "metadata": {},
   "source": [
    "Let's now check that the W tensor *cannot* be scaled to uniform marginals:"
   ]
  },
  {
   "cell_type": "code",
   "execution_count": null,
   "metadata": {},
   "outputs": [],
   "source": [
    "shape = [2, 2, 2, 2]\n",
    "W = np.zeros(shape)\n",
    "W[1, 0, 0, 0] = W[0, 1, 0, 0] = W[0, 0, 1, 0] = W[0, 0, 0, 1] = .5\n",
    "targets = [(.5, .5)] * 4\n",
    "\n",
    "scale(W, targets, eps=1e-4, max_iterations=1000)"
   ]
  },
  {
   "cell_type": "markdown",
   "metadata": {},
   "source": [
    "To see more clearly what is going on, we can set the `verbose` flag:"
   ]
  },
  {
   "cell_type": "code",
   "execution_count": null,
   "metadata": {},
   "outputs": [],
   "source": [
    "res = scale(W, targets, eps=1e-4, max_iterations=10, verbose=True)"
   ]
  },
  {
   "cell_type": "markdown",
   "metadata": {},
   "source": [
    "We see that at each point in the algorithm, one of the marginals has Frobenius distance $\\approx 0.59$ to being uniform. Indeed, we know that the entanglement polytope of the W tensor does not include the point corresponding to uniform marginals -- see [here](https://www.entanglement-polytopes.org/four_qubits) for an interactive visualization!"
   ]
  },
  {
   "cell_type": "markdown",
   "metadata": {},
   "source": [
    "# Tuples of matrices and tensors"
   ]
  },
  {
   "cell_type": "markdown",
   "metadata": {},
   "source": [
    "We can just as well only prescribe the desired spectra for subsystems.\n",
    "Note that prescribing two out of three marginals amounts to *operator scaling*."
   ]
  },
  {
   "cell_type": "code",
   "execution_count": null,
   "metadata": {},
   "outputs": [],
   "source": [
    "shape = [3, 3, 3]\n",
    "targets = [(.4, .3, .3), (.7, .2, .1)]\n",
    "\n",
    "res = scale(unit_tensor(3, 3), targets, eps=1e-6)\n",
    "res"
   ]
  },
  {
   "cell_type": "markdown",
   "metadata": {},
   "source": [
    "Indeed, the last two marginals are as prescribed, while the first marginal is arbitrary."
   ]
  },
  {
   "cell_type": "code",
   "execution_count": null,
   "metadata": {
    "scrolled": true
   },
   "outputs": [],
   "source": [
    "print(marginal(res.psi, 0).round(5), \"\\n\")\n",
    "print(marginal(res.psi, 1).round(5), \"\\n\")\n",
    "print(marginal(res.psi, 2).round(5))"
   ]
  },
  {
   "cell_type": "markdown",
   "metadata": {},
   "source": [
    "# Gradient descent "
   ]
  },
  {
   "cell_type": "code",
   "execution_count": 2,
   "metadata": {
    "scrolled": true
   },
   "outputs": [],
   "source": [
    "\n",
    "\n",
    "def rand_3tensor_unif(n):\n",
    "    start = random_tensor([n,n,n])\n",
    "    targets = [np.ones(n)/n,np.ones(n)/n,np.ones(n)/n]\n",
    "    res, norms, frobs = scale(start, targets, eps=1e-4, method = \"gradient\")\n",
    "    lognorm = []\n",
    "    for norm in norms:\n",
    "        lognorm.append(np.log(norm))\n",
    "        #norm = np.log(norm)\n",
    "    return lognorm"
   ]
  },
  {
   "cell_type": "code",
   "execution_count": 3,
   "metadata": {},
   "outputs": [],
   "source": [
    "def rand_3tensor_ratio(n):\n",
    "    start = random_tensor([n,n,n])\n",
    "    targets = [np.ones(n)/n,np.ones(n)/n,np.ones(n)/n]\n",
    "    res, norms, frobs = scale(start, targets, eps=1e-4, method = \"gradient\")\n",
    "    ratios = []\n",
    "    #lognorms = []\n",
    "    #logfrobs = []\n",
    "    for i in range(len(norms)):\n",
    "        ratios.append(norms[i]**2/(frobs[i]**2))\n",
    "        #lognorms.append(np.log(norms[i]-(1/n)))\n",
    "        #logfrobs.append(np.log(frobs[i]))\n",
    "        #norm = np.log(norm)\n",
    "    return ratios, frobs, norms"
   ]
  },
  {
   "cell_type": "code",
   "execution_count": 4,
   "metadata": {},
   "outputs": [
    {
     "data": {
      "text/plain": [
       "[<matplotlib.lines.Line2D at 0x117493278>]"
      ]
     },
     "execution_count": 4,
     "metadata": {},
     "output_type": "execute_result"
    },
    {
     "data": {
      "image/png": "[encoded data removed]",
      "text/plain": [
       "<Figure size 432x288 with 1 Axes>"
      ]
     },
     "metadata": {
      "needs_background": "light"
     },
     "output_type": "display_data"
    }
   ],
   "source": [
    "#plots log of (spectral norm -1) of the first marginal\n",
    "norms = rand_3tensor_unif(3)\n",
    "plt.plot(norms)"
   ]
  },
  {
   "cell_type": "code",
   "execution_count": 12,
   "metadata": {},
   "outputs": [
    {
     "data": {
      "text/plain": [
       "[<matplotlib.lines.Line2D at 0x117a60390>]"
      ]
     },
     "execution_count": 12,
     "metadata": {},
     "output_type": "execute_result"
    },
    {
     "data": {
      "image/png": "[encoded data removed]",
      "text/plain": [
       "<Figure size 432x288 with 1 Axes>"
      ]
     },
     "metadata": {
      "needs_background": "light"
     },
     "output_type": "display_data"
    }
   ],
   "source": [
    "ratios, frobs, norms = rand_3tensor_ratio(8)\n",
    "plt.plot(ratios)\n",
    "plt.plot(frobs)\n",
    "plt.plot(norms)"
   ]
  },
  {
   "cell_type": "code",
   "execution_count": null,
   "metadata": {},
   "outputs": [],
   "source": [
    "np.linalg.eigvalsh(np.matrix([[1,0],[0,2]]))"
   ]
  },
  {
   "cell_type": "markdown",
   "metadata": {},
   "source": [
    "# Decoherence"
   ]
  },
  {
   "cell_type": "code",
   "execution_count": 57,
   "metadata": {},
   "outputs": [
    {
     "data": {
      "text/plain": [
       "0.4376380832525713"
      ]
     },
     "execution_count": 57,
     "metadata": {},
     "output_type": "execute_result"
    }
   ],
   "source": [
    "# random tensor \n",
    "dimension = 100\n",
    "samples = 100\n",
    "#x = random_tensor([n,n,2])\n",
    "#marginal(x,0)\n",
    "kraus_list = list(np.random.randn(dimension,dimension) for i in range(samples))\n",
    "muA = sum(kraus@kraus.T for kraus in kraus_list)\n",
    "muA = muA - np.trace(muA)/dimension\n",
    "muB = sum(kraus.T @kraus for kraus in kraus_list)\n",
    "TmuB = sum(kraus @ muB @ kraus.T for kraus in kraus_list)\n",
    "valA, basisA = np.linalg.eigh(muA)\n",
    "valB, basisB = np.linalg.eigh(TmuB)\n",
    "dotlist = []\n",
    "for a in basisA:\n",
    "    for b in basisB:\n",
    "        dotlist.append(np.abs(np.dot(a,b)))\n",
    "np.max(dotlist)"
   ]
  },
  {
   "cell_type": "code",
   "execution_count": 123,
   "metadata": {},
   "outputs": [],
   "source": [
    "def decoherence(samples,dimension, runs):\n",
    "    run_list = []\n",
    "    for i in range(runs):\n",
    "        kraus_list = list(np.random.randn(dimension,dimension) for i in range(samples))\n",
    "        muA = sum(kraus@kraus.T for kraus in kraus_list)\n",
    "        muA = muA - np.trace(muA)*np.eye(dimension)/dimension\n",
    "        muB = sum(kraus.T @kraus for kraus in kraus_list)\n",
    "        muB = muB- np.trace(muB)*np.eye(dimension)/dimension\n",
    "        TmuB = sum(kraus @ muB @ kraus.T for kraus in kraus_list)\n",
    "        valA, basisA = np.linalg.eigh(muA)\n",
    "        #print(valA)\n",
    "        valB, basisB = np.linalg.eigh(TmuB)\n",
    "        dotlist = []\n",
    "        for a in basisA.T:\n",
    "            #print(a)\n",
    "            for b in basisB.T:\n",
    "                dotlist.append(np.abs(np.dot(a,b)))\n",
    "        #print(np.max(dotlist))\n",
    "        run_list.append(np.max(dotlist))\n",
    "    return run_list\n",
    "\n",
    "def maxdecoherence(samples,dimension, runs):\n",
    "    run_list = []\n",
    "    for i in range(runs):\n",
    "        kraus_list = list(np.random.randn(dimension,dimension) for i in range(samples))\n",
    "        muA = sum(kraus@kraus.T for kraus in kraus_list)\n",
    "        muA = muA - np.trace(muA)*np.eye(dimension)/dimension\n",
    "        muB = sum(kraus.T @kraus for kraus in kraus_list)\n",
    "        muB = muB- np.trace(muB)*np.eye(dimension)/dimension\n",
    "        TmuB = sum(kraus @ muB @ kraus.T for kraus in kraus_list)\n",
    "        valA, basisA = np.linalg.eigh(muA)\n",
    "        #print(valA)\n",
    "        valB, basisB = np.linalg.eigh(TmuB)\n",
    "        dotlist = []\n",
    "        \n",
    "            #print(a)\n",
    "        for b in basisB.T:\n",
    "            dotlist.append(np.abs(np.dot(basisA.T[-1],b)))\n",
    "        #print(np.max(dotlist))\n",
    "        run_list.append(np.max(dotlist))\n",
    "    return run_list\n",
    "\n",
    "def otherdecoherence(samples,dimension, runs):\n",
    "    run_list = []\n",
    "    for i in range(runs):\n",
    "        kraus_list = list(np.random.randn(dimension,dimension) for i in range(samples))\n",
    "        muA = sum(kraus@kraus.T for kraus in kraus_list)\n",
    "        muA = muA - np.trace(muA)*np.eye(dimension)/dimension\n",
    "        muB = sum(kraus.T @kraus for kraus in kraus_list)\n",
    "        muB = muB- np.trace(muB)*np.eye(dimension)/dimension\n",
    "        TmuB = sum(kraus @ muB @ kraus.T for kraus in kraus_list)\n",
    "        TmuB = TmuB - np.trace(TmuB)*np.eye(dimension)/dimension\n",
    "        TmuB = TmuB/np.linalg.norm(TmuB)\n",
    "        valA, basisA = np.linalg.eigh(muA)\n",
    "        #print(valA)\n",
    "        #valB, basisB = np.linalg.eigh(TmuB)\n",
    "        #dotlist = []\n",
    "        u = basisA.T[-1]\n",
    "        term = np.dot(u, TmuB @ u)\n",
    "        \n",
    "            #print(a)\n",
    "        #for b in basisB.T:\n",
    "        #    dotlist.append(np.abs(np.dot(basisA.T[-1],b)))\n",
    "        #print(np.max(dotlist))\n",
    "        run_list.append(term)\n",
    "    return run_list"
   ]
  },
  {
   "cell_type": "code",
   "execution_count": 114,
   "metadata": {},
   "outputs": [
    {
     "data": {
      "text/plain": [
       "(array([2., 1., 2., 2., 0., 1., 0., 0., 1., 1.]),\n",
       " array([0.17453044, 0.18659853, 0.19866663, 0.21073473, 0.22280282,\n",
       "        0.23487092, 0.24693902, 0.25900711, 0.27107521, 0.28314331,\n",
       "        0.29521141]),\n",
       " <a list of 10 Patch objects>)"
      ]
     },
     "execution_count": 114,
     "metadata": {},
     "output_type": "execute_result"
    },
    {
     "data": {
      "image/png": "[encoded data removed]",
      "text/plain": [
       "<Figure size 432x288 with 1 Axes>"
      ]
     },
     "metadata": {
      "needs_background": "light"
     },
     "output_type": "display_data"
    }
   ],
   "source": [
    "x = maxdecoherence(20,900,10)\n",
    "plt.hist(x)"
   ]
  },
  {
   "cell_type": "code",
   "execution_count": 130,
   "metadata": {},
   "outputs": [
    {
     "data": {
      "text/plain": [
       "(array([2., 0., 1., 1., 3., 1., 1., 0., 0., 1.]),\n",
       " array([0.04796303, 0.04888962, 0.04981621, 0.0507428 , 0.0516694 ,\n",
       "        0.05259599, 0.05352258, 0.05444917, 0.05537576, 0.05630235,\n",
       "        0.05722895]),\n",
       " <a list of 10 Patch objects>)"
      ]
     },
     "execution_count": 130,
     "metadata": {},
     "output_type": "execute_result"
    },
    {
     "data": {
      "image/png": "[encoded data removed]",
      "text/plain": [
       "<Figure size 432x288 with 1 Axes>"
      ]
     },
     "metadata": {
      "needs_background": "light"
     },
     "output_type": "display_data"
    }
   ],
   "source": [
    "x = otherdecoherence(10,900,10)\n",
    "plt.hist(x)"
   ]
  },
  {
   "cell_type": "code",
   "execution_count": null,
   "metadata": {},
   "outputs": [],
   "source": []
  }
 ],
 "metadata": {
  "kernelspec": {
   "display_name": "Python 3",
   "language": "python",
   "name": "python3"
  },
  "language_info": {
   "codemirror_mode": {
    "name": "ipython",
    "version": 3
   },
   "file_extension": ".py",
   "mimetype": "text/x-python",
   "name": "python",
   "nbconvert_exporter": "python",
   "pygments_lexer": "ipython3",
   "version": "3.7.1"
  }
 },
 "nbformat": 4,
 "nbformat_minor": 2
}
