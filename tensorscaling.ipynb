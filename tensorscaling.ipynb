{
 "cells": [
  {
   "cell_type": "code",
   "execution_count": 1,
   "metadata": {},
   "outputs": [],
   "source": [
    "%matplotlib inline\n",
    "from tensorscaling import scale, unit_tensor, random_tensor, marginal\n",
    "import numpy as np"
   ]
  },
  {
   "cell_type": "markdown",
   "metadata": {},
   "source": [
    "# Tensor scaling"
   ]
  },
  {
   "cell_type": "markdown",
   "metadata": {},
   "source": [
    "Scale 3x3x3 unit tensor to certain non-uniform marginals:"
   ]
  },
  {
   "cell_type": "code",
   "execution_count": 2,
   "metadata": {},
   "outputs": [
    {
     "data": {
      "text/plain": [
       "Result(success=True, iterations=65, max_dist=8.901802576549e-05, ..., log_cap=-0.37562886794485073)"
      ]
     },
     "execution_count": 2,
     "metadata": {},
     "output_type": "execute_result"
    }
   ],
   "source": [
    "shape = [3, 3, 3]\n",
    "targets = [(.5, .25, .25), (.4, .3, .3), (.7, .2, .1)]\n",
    "\n",
    "res = scale(unit_tensor(3, 3), targets, eps=1e-4)\n",
    "res"
   ]
  },
  {
   "cell_type": "markdown",
   "metadata": {},
   "source": [
    "We can also access the scaling matrices and the final scaled state:"
   ]
  },
  {
   "cell_type": "code",
   "execution_count": 3,
   "metadata": {},
   "outputs": [
    {
     "name": "stdout",
     "output_type": "stream",
     "text": [
      "[[-0.98179206+0.08310703j -0.6847407 +1.23454873j  0.41167567+0.17355186j]\n",
      " [ 0.2782855 +0.22325433j -0.64880442+0.39756997j  0.10405664-0.02510198j]\n",
      " [-0.08609699+0.41869384j  0.16110788+0.54988533j -0.37726146+0.25547404j]] \n",
      "\n",
      "[[-0.20884334-0.52608173j -0.43841353-0.22263097j  0.18381737+1.3897339j ]\n",
      " [ 0.23411653+0.29201128j -0.16341741+0.45649612j  0.32907006+0.63745749j]\n",
      " [ 0.12209672+0.09771179j  0.19271776-0.14215783j  0.70162779+2.40092343j]] \n",
      "\n",
      "[[-1.53180053-0.13438182j  0.55861781+0.79027767j -0.16186817+0.35969357j]\n",
      " [-0.47271985+0.28744581j  0.14897723+0.14332133j -0.01019585-0.34057654j]\n",
      " [-0.14897149-0.29746561j  0.10036467-0.27751804j -0.03875172-0.02867671j]]\n"
     ]
    }
   ],
   "source": [
    "print(res.gs[0], \"\\n\")\n",
    "print(res.gs[1], \"\\n\")\n",
    "print(res.gs[2])"
   ]
  },
  {
   "cell_type": "markdown",
   "metadata": {},
   "source": [
    "Let's now check that the W tensor *cannot* be scaled to uniform marginals:"
   ]
  },
  {
   "cell_type": "code",
   "execution_count": 4,
   "metadata": {},
   "outputs": [
    {
     "data": {
      "text/plain": [
       "Result(success=False, iterations=1000, max_dist=0.5934653559719876, ..., log_cap=-304.31531974463286)"
      ]
     },
     "execution_count": 4,
     "metadata": {},
     "output_type": "execute_result"
    }
   ],
   "source": [
    "shape = [2, 2, 2, 2]\n",
    "W = np.zeros(shape)\n",
    "W[1, 0, 0, 0] = W[0, 1, 0, 0] = W[0, 0, 1, 0] = W[0, 0, 0, 1] = .5\n",
    "targets = [(.5, .5)] * 4\n",
    "\n",
    "scale(W, targets, eps=1e-4, max_iterations=1000)"
   ]
  },
  {
   "cell_type": "markdown",
   "metadata": {},
   "source": [
    "To see more clearly what is going on, we can set the `verbose` flag:"
   ]
  },
  {
   "cell_type": "code",
   "execution_count": 5,
   "metadata": {},
   "outputs": [
    {
     "name": "stdout",
     "output_type": "stream",
     "text": [
      "scaling tensor of shape (2, 2, 2, 2) and type float64\n",
      "target spectra:\n",
      "  0: (0.5, 0.5)\n",
      "  1: (0.5, 0.5)\n",
      "  2: (0.5, 0.5)\n",
      "  3: (0.5, 0.5)\n",
      "#000: max_dist = 0.35355339 @ sys = 1\n",
      "#001: max_dist = 0.47140452 @ sys = 2\n",
      "#002: max_dist = 0.56568542 @ sys = 0\n",
      "#003: max_dist = 0.62853936 @ sys = 3\n",
      "#004: max_dist = 0.58232323 @ sys = 1\n",
      "#005: max_dist = 0.59305730 @ sys = 2\n",
      "#006: max_dist = 0.59545834 @ sys = 0\n",
      "#007: max_dist = 0.59262283 @ sys = 3\n",
      "#008: max_dist = 0.59353004 @ sys = 1\n",
      "#009: max_dist = 0.59357133 @ sys = 2\n",
      "#010: max_dist = 0.59340661 @ sys = 0\n",
      "did not converge!\n"
     ]
    }
   ],
   "source": [
    "res = scale(W, targets, eps=1e-4, max_iterations=10, verbose=True)"
   ]
  },
  {
   "cell_type": "markdown",
   "metadata": {},
   "source": [
    "We see that at each point in the algorithm, one of the marginals has Frobenius distance $\\approx 0.59$ to being uniform. Indeed, we know that the entanglement polytope of the W tensor does not include the point corresponding to uniform marginals -- see [here](https://www.entanglement-polytopes.org/four_qubits) for an interactive visualization!"
   ]
  },
  {
   "cell_type": "markdown",
   "metadata": {},
   "source": [
    "# Tuples of matrices and tensors"
   ]
  },
  {
   "cell_type": "markdown",
   "metadata": {},
   "source": [
    "We can just as well only prescribe the desired spectra for subsystems.\n",
    "Note that prescribing two out of three marginals amounts to *operator scaling*."
   ]
  },
  {
   "cell_type": "code",
   "execution_count": 6,
   "metadata": {},
   "outputs": [
    {
     "data": {
      "text/plain": [
       "Result(success=True, iterations=38, max_dist=9.363908653013667e-07, ..., log_cap=-0.1920604177161437)"
      ]
     },
     "execution_count": 6,
     "metadata": {},
     "output_type": "execute_result"
    }
   ],
   "source": [
    "shape = [3, 3, 3]\n",
    "targets = [(.4, .3, .3), (.7, .2, .1)]\n",
    "\n",
    "res = scale(unit_tensor(3, 3), targets, eps=1e-6)\n",
    "res"
   ]
  },
  {
   "cell_type": "markdown",
   "metadata": {},
   "source": [
    "Indeed, the last two marginals are as prescribed, while the first marginal is arbitrary."
   ]
  },
  {
   "cell_type": "code",
   "execution_count": 7,
   "metadata": {},
   "outputs": [
    {
     "name": "stdout",
     "output_type": "stream",
     "text": [
      "[[ 0.30664+0.j      -0.00371-0.00223j  0.01015-0.00682j]\n",
      " [-0.00371+0.00223j  0.31852+0.j      -0.00473+0.02424j]\n",
      " [ 0.01015+0.00682j -0.00473-0.02424j  0.37484+0.j     ]] \n",
      "\n",
      "[[ 0.4+0.j -0. -0.j -0. +0.j]\n",
      " [-0. +0.j  0.3+0.j -0. +0.j]\n",
      " [-0. +0.j -0. -0.j  0.3+0.j]] \n",
      "\n",
      "[[ 0.7+0.j  0. +0.j -0. +0.j]\n",
      " [ 0. -0.j  0.2+0.j  0. +0.j]\n",
      " [-0. -0.j  0. -0.j  0.1+0.j]]\n"
     ]
    }
   ],
   "source": [
    "print(marginal(res.psi, 0).round(5), \"\\n\")\n",
    "print(marginal(res.psi, 1).round(5), \"\\n\")\n",
    "print(marginal(res.psi, 2).round(5))"
   ]
  }
 ],
 "metadata": {
  "kernelspec": {
   "display_name": "Python 3",
   "language": "python",
   "name": "python3"
  },
  "language_info": {
   "codemirror_mode": {
    "name": "ipython",
    "version": 3
   },
   "file_extension": ".py",
   "mimetype": "text/x-python",
   "name": "python",
   "nbconvert_exporter": "python",
   "pygments_lexer": "ipython3",
   "version": "3.8.2"
  }
 },
 "nbformat": 4,
 "nbformat_minor": 2
}
