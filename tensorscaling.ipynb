{
 "cells": [
  {
   "cell_type": "code",
   "execution_count": 1,
   "metadata": {},
   "outputs": [],
   "source": [
    "%matplotlib inline\n",
    "from tensorscaling import scale, unit_tensor, random_tensor, marginal\n",
    "import numpy as np\n",
    "import matplotlib.pyplot as plt"
   ]
  },
  {
   "cell_type": "markdown",
   "metadata": {},
   "source": [
    "# Tensor scaling"
   ]
  },
  {
   "cell_type": "markdown",
   "metadata": {},
   "source": [
    "Scale 3x3x3 unit tensor to certain non-uniform marginals:"
   ]
  },
  {
   "cell_type": "code",
   "execution_count": null,
   "metadata": {},
   "outputs": [],
   "source": [
    "shape = [3, 3, 3]\n",
    "targets = [(.5, .25, .25), (.4, .3, .3), (.7, .2, .1)]\n",
    "\n",
    "res = scale(unit_tensor(3, 3), targets, eps=1e-4)\n",
    "res"
   ]
  },
  {
   "cell_type": "markdown",
   "metadata": {},
   "source": [
    "We can also access the scaling matrices and the final scaled state:"
   ]
  },
  {
   "cell_type": "code",
   "execution_count": null,
   "metadata": {},
   "outputs": [],
   "source": [
    "print(res.gs[0], \"\\n\")\n",
    "print(res.gs[1], \"\\n\")\n",
    "print(res.gs[2])"
   ]
  },
  {
   "cell_type": "markdown",
   "metadata": {},
   "source": [
    "Let's now check that the W tensor *cannot* be scaled to uniform marginals:"
   ]
  },
  {
   "cell_type": "code",
   "execution_count": null,
   "metadata": {},
   "outputs": [],
   "source": [
    "shape = [2, 2, 2, 2]\n",
    "W = np.zeros(shape)\n",
    "W[1, 0, 0, 0] = W[0, 1, 0, 0] = W[0, 0, 1, 0] = W[0, 0, 0, 1] = .5\n",
    "targets = [(.5, .5)] * 4\n",
    "\n",
    "scale(W, targets, eps=1e-4, max_iterations=1000)"
   ]
  },
  {
   "cell_type": "markdown",
   "metadata": {},
   "source": [
    "To see more clearly what is going on, we can set the `verbose` flag:"
   ]
  },
  {
   "cell_type": "code",
   "execution_count": null,
   "metadata": {},
   "outputs": [],
   "source": [
    "res = scale(W, targets, eps=1e-4, max_iterations=10, verbose=True)"
   ]
  },
  {
   "cell_type": "markdown",
   "metadata": {},
   "source": [
    "We see that at each point in the algorithm, one of the marginals has Frobenius distance $\\approx 0.59$ to being uniform. Indeed, we know that the entanglement polytope of the W tensor does not include the point corresponding to uniform marginals -- see [here](https://www.entanglement-polytopes.org/four_qubits) for an interactive visualization!"
   ]
  },
  {
   "cell_type": "markdown",
   "metadata": {},
   "source": [
    "# Tuples of matrices and tensors"
   ]
  },
  {
   "cell_type": "markdown",
   "metadata": {},
   "source": [
    "We can just as well only prescribe the desired spectra for subsystems.\n",
    "Note that prescribing two out of three marginals amounts to *operator scaling*."
   ]
  },
  {
   "cell_type": "code",
   "execution_count": 2,
   "metadata": {
    "scrolled": true
   },
   "outputs": [
    {
     "data": {
      "text/plain": [
       "(Result(success=True, iterations=45, max_dist=6.282321715133225e-07, ..., log_cap=-0.43119182086113683),\n",
       " [{1: 0.03333333333333355, 2: 0.2333333333333334},\n",
       "  {1: 0.32324508657324275, 2: 2.242872397918512e-16},\n",
       "  {1: 1.239003915583473e-16, 2: 0.20438801257583136},\n",
       "  {1: 0.19974947304275553, 2: 2.2312552381587744e-16},\n",
       "  {1: 1.631799014731983e-16, 2: 0.14153080388574302},\n",
       "  {1: 0.09898829006426393, 2: 2.290434424976597e-16},\n",
       "  {1: 4.956107947740086e-17, 2: 0.0927937097989018},\n",
       "  {1: 0.04986908625168508, 2: 5.002527063005873e-17},\n",
       "  {1: 1.7989212353334006e-16, 2: 0.05806232169185667},\n",
       "  {1: 0.026387849903581086, 2: 3.3723933914162034e-16},\n",
       "  {1: 2.2986549012533836e-16, 2: 0.034388069563102155},\n",
       "  {1: 0.014176575971327135, 2: 7.241881835471576e-17},\n",
       "  {1: 1.2107208139617532e-16, 2: 0.01946952858716409},\n",
       "  {1: 0.007604311758173197, 2: 3.387504411555014e-16},\n",
       "  {1: 2.9498499235426515e-16, 2: 0.010704089492748512},\n",
       "  {1: 0.004060273816576107, 2: 2.3269964454501765e-16},\n",
       "  {1: 2.8118988973136137e-16, 2: 0.005785133351412595},\n",
       "  {1: 0.002160213843074229, 2: 1.2430972221779632e-16},\n",
       "  {1: 9.485082958488184e-17, 2: 0.0030971623104981364},\n",
       "  {1: 0.00114679315175437, 2: 4.8442925317435996e-17},\n",
       "  {1: 1.3391506710656907e-16, 2: 0.0016496440077147729},\n",
       "  {1: 0.0006080546268534801, 2: 2.2847229128398603e-16},\n",
       "  {1: 1.2402020777568135e-16, 2: 0.0008762471764676841},\n",
       "  {1: 0.0003221948234841843, 2: 1.3384012732794874e-16},\n",
       "  {1: 2.8460311216894886e-16, 2: 0.00046476125249653405},\n",
       "  {1: 0.0001706669875736254, 2: 6.446411934261158e-17},\n",
       "  {1: 1.253658213720017e-16, 2: 0.0002463186186161932},\n",
       "  {1: 9.038729109115254e-05, 2: 5.99029712102865e-17},\n",
       "  {1: 1.994653546019415e-16, 2: 0.00013049280179634352},\n",
       "  {1: 4.786620708721234e-05, 2: 6.106731451383014e-17},\n",
       "  {1: 2.460092820946967e-16, 2: 6.911648217077257e-05},\n",
       "  {1: 2.5347379552551972e-05, 2: 1.4356246865623142e-16},\n",
       "  {1: 1.2903406584384696e-16, 2: 3.6603854664370324e-05},\n",
       "  {1: 1.3422356206849647e-05, 2: 3.402310470781386e-16},\n",
       "  {1: 3.1136891580043317e-16, 2: 1.938409971894338e-05},\n",
       "  {1: 7.1075609508608145e-06, 2: 1.6117796453660204e-16},\n",
       "  {1: 7.3089196745603e-17, 2: 1.026480005332334e-05},\n",
       "  {1: 3.7636628841535185e-06, 2: 3.3619170277736946e-17},\n",
       "  {1: 1.91142115156938e-16, 2: 5.435606063431279e-06},\n",
       "  {1: 1.9929671087004098e-06, 2: 1.2224959740415425e-16},\n",
       "  {1: 1.900478503384862e-16, 2: 2.8783364246381614e-06},\n",
       "  {1: 1.0553324355785802e-06, 2: 7.532139847573307e-17},\n",
       "  {1: 1.2028787601062412e-16, 2: 1.5241688121404513e-06},\n",
       "  {1: 5.58828273890204e-07, 2: 3.501330648059785e-16},\n",
       "  {1: 1.8283153873800224e-16, 2: 8.070928467098062e-07},\n",
       "  {1: 2.959153254867319e-07, 2: 1.5107672163123018e-16}],\n",
       " [{1: 0.08164965809277254, 2: 0.4546060565661951},\n",
       "  {1: 0.40359365783010726, 2: 2.5203482261154093e-16},\n",
       "  {1: 2.1944080555073868e-16, 2: 0.35205235936163637},\n",
       "  {1: 0.2600181009273329, 2: 2.231430308709087e-16},\n",
       "  {1: 1.864484794686983e-16, 2: 0.21580384867923172},\n",
       "  {1: 0.1469734298452885, 2: 2.533409074679899e-16},\n",
       "  {1: 1.3283950133694437e-16, 2: 0.12827756974647048},\n",
       "  {1: 0.0863824800808561, 2: 1.0166278813126174e-16},\n",
       "  {1: 2.373973988855638e-16, 2: 0.07751691039321071},\n",
       "  {1: 0.05049317772929005, 2: 3.3912180177185875e-16},\n",
       "  {1: 2.4063309723356323e-16, 2: 0.04539979239171895},\n",
       "  {1: 0.028553227123877045, 2: 9.004702100804931e-17},\n",
       "  {1: 2.1771989058473929e-16, 2: 0.02558981553556279},\n",
       "  {1: 0.015709040660267837, 2: 3.446472534637158e-16},\n",
       "  {1: 3.1765813703372804e-16, 2: 0.014039320805843653},\n",
       "  {1: 0.008495822323603998, 2: 2.4131447032049945e-16},\n",
       "  {1: 2.928858539247376e-16, 2: 0.007579528020470799},\n",
       "  {1: 0.004550323927173088, 2: 1.323529782645702e-16},\n",
       "  {1: 2.852657685062071e-16, 2: 0.004055521818312416},\n",
       "  {1: 0.002424235111496774, 2: 6.718555132733216e-17},\n",
       "  {1: 1.7887009588283045e-16, 2: 0.002159444018266259},\n",
       "  {1: 0.0012878608649060231, 2: 2.3940519542595802e-16},\n",
       "  {1: 1.5426364404918866e-16, 2: 0.0011468538546695415},\n",
       "  {1: 0.0006831294810626748, 2: 1.4971477669413769e-16},\n",
       "  {1: 3.0973437870987e-16, 2: 0.0006082379765956457},\n",
       "  {1: 0.0003620650171874463, 2: 7.635000658481803e-17},\n",
       "  {1: 1.54867189354935e-16, 2: 0.0003223446260254637},\n",
       "  {1: 0.00019181578641949684, 2: 1.0391160141636353e-16},\n",
       "  {1: 2.0920506204726484e-16, 2: 0.0001707649333815352},\n",
       "  {1: 0.00010159768519760949, 2: 6.986435931722555e-17},\n",
       "  {1: 3.017421715983806e-16, 2: 9.044566654827392e-05},\n",
       "  {1: 5.380607123164487e-05, 2: 1.5603955789158168e-16},\n",
       "  {1: 1.6734462972442722e-16, 2: 4.7899358619502004e-05},\n",
       "  {1: 2.8493858584605904e-05, 2: 3.5742092381648296e-16},\n",
       "  {1: 3.248058362081677e-16, 2: 2.536569309235002e-05},\n",
       "  {1: 1.508887019072979e-05, 2: 1.7918211457686033e-16},\n",
       "  {1: 1.6464344495682283e-16, 2: 1.3432307382317458e-05},\n",
       "  {1: 7.990142183739368e-06, 2: 7.064606779536449e-17},\n",
       "  {1: 2.1989287998084896e-16, 2: 7.1129142054934025e-06},\n",
       "  {1: 4.231050814963128e-06, 2: 1.2823467367672082e-16},\n",
       "  {1: 2.1756779843164414e-16, 2: 3.7665250316441517e-06},\n",
       "  {1: 2.240473626527112e-06, 2: 1.0052606545144917e-16},\n",
       "  {1: 2.1911143830235806e-16, 2: 1.994491615185666e-06},\n",
       "  {1: 1.1863977164169307e-06, 2: 3.618135838227279e-16},\n",
       "  {1: 2.0690532024354165e-16, 2: 1.0561425839945843e-06},\n",
       "  {1: 6.282321715133225e-07, 2: 1.6362130319659366e-16}])"
      ]
     },
     "execution_count": 2,
     "metadata": {},
     "output_type": "execute_result"
    }
   ],
   "source": [
    "shape = [3, 3, 3]\n",
    "targets = [(.4, .3, .3), (.7, .2, .1)]\n",
    "\n",
    "res = scale(unit_tensor(3, 3), targets, eps=1e-6)\n",
    "res"
   ]
  },
  {
   "cell_type": "markdown",
   "metadata": {},
   "source": [
    "Indeed, the last two marginals are as prescribed, while the first marginal is arbitrary."
   ]
  },
  {
   "cell_type": "code",
   "execution_count": null,
   "metadata": {
    "scrolled": true
   },
   "outputs": [],
   "source": [
    "print(marginal(res.psi, 0).round(5), \"\\n\")\n",
    "print(marginal(res.psi, 1).round(5), \"\\n\")\n",
    "print(marginal(res.psi, 2).round(5))"
   ]
  },
  {
   "cell_type": "markdown",
   "metadata": {},
   "source": [
    "# Gradient descent "
   ]
  },
  {
   "cell_type": "code",
   "execution_count": 3,
   "metadata": {
    "scrolled": true
   },
   "outputs": [],
   "source": [
    "\n",
    "\n",
    "def rand_3tensor_unif(n):\n",
    "    start = random_tensor([n,n,n])\n",
    "    targets = [np.ones(n)/n,np.ones(n)/n,np.ones(n)/n]\n",
    "    res, norms, frobs = scale(start, targets, eps=1e-4, method = \"gradient\")\n",
    "    lognorm = []\n",
    "    for norm in norms:\n",
    "        lognorm.append(np.log(norm))\n",
    "        #norm = np.log(norm)\n",
    "    return lognorm"
   ]
  },
  {
   "cell_type": "code",
   "execution_count": 7,
   "metadata": {},
   "outputs": [],
   "source": [
    "def rand_3tensor_ratio(n):\n",
    "    start = random_tensor([n,n,n])\n",
    "    targets = [np.ones(n)/n,np.ones(n)/n,np.ones(n)/n]\n",
    "    res, norms, frobs = scale(start, targets, eps=1e-4, method = \"gradient\")\n",
    "    ratios = []\n",
    "    #lognorms = []\n",
    "    #logfrobs = []\n",
    "    for i in range(len(norms)):\n",
    "        ratios.append(norms[i]**2/(frobs[i]**2))\n",
    "        #lognorms.append(np.log(norms[i]-(1/n)))\n",
    "        #logfrobs.append(np.log(frobs[i]))\n",
    "        #norm = np.log(norm)\n",
    "    return ratios, frobs, norms\n",
    "\n",
    "def rand_3tensor_rect(d,n,samples=5):\n",
    "    start = random_tensor([samples,d,d,n])\n",
    "    targets = [np.ones(d)/d,np.ones(d)/d,np.ones(n)/n]\n",
    "    res, norms, frobs = scale(start, targets, eps=1e-4, method = \"gradient\")\n",
    "    #ratios = []\n",
    "    #lognorms = []\n",
    "    #logfrobs = []\n",
    "    #for i in range(len(norms)):\n",
    "        #ratios.append(norms[i]**2/(frobs[i]**2))\n",
    "        #lognorms.append(np.log(norms[i]-(1/d)))\n",
    "        #logfrobs.append(np.log(frobs[i]))\n",
    "        #norm = np.log(norm)\n",
    "    #return ratios, frobs, norms\n",
    "    return norms\n",
    "\n",
    "def rand_operator(d,samples=5):\n",
    "    start = random_tensor([samples,d,d])\n",
    "    targets = [np.ones(d)/d,np.ones(d)/d]\n",
    "    res, norms, frobs = scale(start, targets, eps=1e-4, method = \"gradient\")\n",
    "    #ratios = []\n",
    "    #lognorms = []\n",
    "    #logfrobs = []\n",
    "    #for i in range(len(norms)):\n",
    "        #ratios.append(norms[i]**2/(frobs[i]**2))\n",
    "        #lognorms.append(np.log(norms[i]-(1/d)))\n",
    "        #logfrobs.append(np.log(frobs[i]))\n",
    "        #norm = np.log(norm)\n",
    "    #return ratios, frobs, norms\n",
    "    return norms"
   ]
  },
  {
   "cell_type": "code",
   "execution_count": 19,
   "metadata": {
    "scrolled": true
   },
   "outputs": [],
   "source": [
    "#plots log of (spectral norm -1) of the first marginal\n",
    "norms = rand_3tensor_rect(20,2,samples=1)\n"
   ]
  },
  {
   "cell_type": "code",
   "execution_count": 20,
   "metadata": {},
   "outputs": [
    {
     "data": {
      "text/plain": [
       "[<matplotlib.lines.Line2D at 0x116c81898>]"
      ]
     },
     "execution_count": 20,
     "metadata": {},
     "output_type": "execute_result"
    },
    {
     "data": {
      "image/png": "[encoded data removed]",
      "text/plain": [
       "<Figure size 432x288 with 1 Axes>"
      ]
     },
     "metadata": {
      "needs_background": "light"
     },
     "output_type": "display_data"
    }
   ],
   "source": [
    "plt.plot(np.log(list(norm[3] for norm in norms)))"
   ]
  },
  {
   "cell_type": "code",
   "execution_count": 12,
   "metadata": {},
   "outputs": [
    {
     "data": {
      "text/plain": [
       "[<matplotlib.lines.Line2D at 0x117a60390>]"
      ]
     },
     "execution_count": 12,
     "metadata": {},
     "output_type": "execute_result"
    },
    {
     "data": {
      "image/png": "[encoded data removed]",
      "text/plain": [
       "<Figure size 432x288 with 1 Axes>"
      ]
     },
     "metadata": {
      "needs_background": "light"
     },
     "output_type": "display_data"
    }
   ],
   "source": [
    "ratios, frobs, norms = rand_3tensor_ratio(8)\n",
    "plt.plot(ratios)\n",
    "plt.plot(frobs)\n",
    "plt.plot(norms)"
   ]
  },
  {
   "cell_type": "code",
   "execution_count": 34,
   "metadata": {},
   "outputs": [],
   "source": [
    "norms = rand_operator(10,2)"
   ]
  },
  {
   "cell_type": "code",
   "execution_count": 35,
   "metadata": {},
   "outputs": [
    {
     "data": {
      "text/plain": [
       "[<matplotlib.lines.Line2D at 0x102f95358>]"
      ]
     },
     "execution_count": 35,
     "metadata": {},
     "output_type": "execute_result"
    },
    {
     "data": {
      "image/png": "[encoded data removed]",
      "text/plain": [
       "<Figure size 432x288 with 1 Axes>"
      ]
     },
     "metadata": {
      "needs_background": "light"
     },
     "output_type": "display_data"
    }
   ],
   "source": [
    "plt.plot(list(np.log(norm[1]) for norm in norms))"
   ]
  },
  {
   "cell_type": "markdown",
   "metadata": {},
   "source": [
    "# Decoherence"
   ]
  },
  {
   "cell_type": "code",
   "execution_count": 57,
   "metadata": {},
   "outputs": [
    {
     "data": {
      "text/plain": [
       "0.4376380832525713"
      ]
     },
     "execution_count": 57,
     "metadata": {},
     "output_type": "execute_result"
    }
   ],
   "source": [
    "# random tensor \n",
    "dimension = 100\n",
    "samples = 100\n",
    "#x = random_tensor([n,n,2])\n",
    "#marginal(x,0)\n",
    "kraus_list = list(np.random.randn(dimension,dimension) for i in range(samples))\n",
    "muA = sum(kraus@kraus.T for kraus in kraus_list)\n",
    "muA = muA - np.trace(muA)/dimension\n",
    "muB = sum(kraus.T @kraus for kraus in kraus_list)\n",
    "TmuB = sum(kraus @ muB @ kraus.T for kraus in kraus_list)\n",
    "valA, basisA = np.linalg.eigh(muA)\n",
    "valB, basisB = np.linalg.eigh(TmuB)\n",
    "dotlist = []\n",
    "for a in basisA:\n",
    "    for b in basisB:\n",
    "        dotlist.append(np.abs(np.dot(a,b)))\n",
    "np.max(dotlist)"
   ]
  },
  {
   "cell_type": "code",
   "execution_count": 2,
   "metadata": {},
   "outputs": [],
   "source": [
    "def decoherence(samples,dimension, runs):\n",
    "    run_list = []\n",
    "    for i in range(runs):\n",
    "        kraus_list = list(np.random.randn(dimension,dimension) for i in range(samples))\n",
    "        muA = sum(kraus@kraus.T for kraus in kraus_list)\n",
    "        muA = muA - np.trace(muA)*np.eye(dimension)/dimension\n",
    "        muB = sum(kraus.T @kraus for kraus in kraus_list)\n",
    "        muB = muB- np.trace(muB)*np.eye(dimension)/dimension\n",
    "        TmuB = sum(kraus @ muB @ kraus.T for kraus in kraus_list)\n",
    "        valA, basisA = np.linalg.eigh(muA)\n",
    "        #print(valA)\n",
    "        valB, basisB = np.linalg.eigh(TmuB)\n",
    "        dotlist = []\n",
    "        for a in basisA.T:\n",
    "            #print(a)\n",
    "            for b in basisB.T:\n",
    "                dotlist.append(np.abs(np.dot(a,b)))\n",
    "        #print(np.max(dotlist))\n",
    "        run_list.append(np.max(dotlist))\n",
    "    return run_list\n",
    "\n",
    "def maxdecoherence(samples,dimension, runs):\n",
    "    run_list = []\n",
    "    for i in range(runs):\n",
    "        kraus_list = list(np.random.randn(dimension,dimension) for i in range(samples))\n",
    "        muA = sum(kraus@kraus.T for kraus in kraus_list)\n",
    "        muA = muA - np.trace(muA)*np.eye(dimension)/dimension\n",
    "        muB = sum(kraus.T @kraus for kraus in kraus_list)\n",
    "        muB = muB- np.trace(muB)*np.eye(dimension)/dimension\n",
    "        TmuB = sum(kraus @ muB @ kraus.T for kraus in kraus_list)\n",
    "        valA, basisA = np.linalg.eigh(muA)\n",
    "        #print(valA)\n",
    "        valB, basisB = np.linalg.eigh(TmuB)\n",
    "        dotlist = []\n",
    "        \n",
    "            #print(a)\n",
    "        for b in basisB.T:\n",
    "            dotlist.append(np.abs(np.dot(basisA.T[-1],b)))\n",
    "        #print(np.max(dotlist))\n",
    "        run_list.append(np.max(dotlist))\n",
    "    return run_list\n",
    "\n",
    "def otherdecoherence(samples,dimension, runs):\n",
    "    run_list = []\n",
    "    for i in range(runs):\n",
    "        kraus_list = list(np.random.randn(dimension,dimension) for i in range(samples))\n",
    "        muA = sum(kraus@kraus.T for kraus in kraus_list)\n",
    "        muA = muA - np.trace(muA)*np.eye(dimension)/dimension\n",
    "        muB = sum(kraus.T @kraus for kraus in kraus_list)\n",
    "        muB = muB- np.trace(muB)*np.eye(dimension)/dimension\n",
    "        TmuB = sum(kraus @ muB @ kraus.T for kraus in kraus_list)\n",
    "        TmuB = TmuB - np.trace(TmuB)*np.eye(dimension)/dimension\n",
    "        TmuB = TmuB/np.linalg.norm(TmuB)\n",
    "        valA, basisA = np.linalg.eigh(muA)\n",
    "        #print(valA)\n",
    "        #valB, basisB = np.linalg.eigh(TmuB)\n",
    "        #dotlist = []\n",
    "        u = basisA.T[-1]\n",
    "        term = np.dot(u, TmuB @ u)\n",
    "        \n",
    "            #print(a)\n",
    "        #for b in basisB.T:\n",
    "        #    dotlist.append(np.abs(np.dot(basisA.T[-1],b)))\n",
    "        #print(np.max(dotlist))\n",
    "        run_list.append(term)\n",
    "    return run_list"
   ]
  },
  {
   "cell_type": "code",
   "execution_count": 114,
   "metadata": {},
   "outputs": [
    {
     "data": {
      "text/plain": [
       "(array([2., 1., 2., 2., 0., 1., 0., 0., 1., 1.]),\n",
       " array([0.17453044, 0.18659853, 0.19866663, 0.21073473, 0.22280282,\n",
       "        0.23487092, 0.24693902, 0.25900711, 0.27107521, 0.28314331,\n",
       "        0.29521141]),\n",
       " <a list of 10 Patch objects>)"
      ]
     },
     "execution_count": 114,
     "metadata": {},
     "output_type": "execute_result"
    },
    {
     "data": {
      "image/png": "[encoded data removed]",
      "text/plain": [
       "<Figure size 432x288 with 1 Axes>"
      ]
     },
     "metadata": {
      "needs_background": "light"
     },
     "output_type": "display_data"
    }
   ],
   "source": [
    "x = maxdecoherence(20,900,10)\n",
    "plt.hist(x)"
   ]
  },
  {
   "cell_type": "code",
   "execution_count": 130,
   "metadata": {},
   "outputs": [
    {
     "data": {
      "text/plain": [
       "(array([2., 0., 1., 1., 3., 1., 1., 0., 0., 1.]),\n",
       " array([0.04796303, 0.04888962, 0.04981621, 0.0507428 , 0.0516694 ,\n",
       "        0.05259599, 0.05352258, 0.05444917, 0.05537576, 0.05630235,\n",
       "        0.05722895]),\n",
       " <a list of 10 Patch objects>)"
      ]
     },
     "execution_count": 130,
     "metadata": {},
     "output_type": "execute_result"
    },
    {
     "data": {
      "image/png": "[encoded data removed]",
      "text/plain": [
       "<Figure size 432x288 with 1 Axes>"
      ]
     },
     "metadata": {
      "needs_background": "light"
     },
     "output_type": "display_data"
    }
   ],
   "source": [
    "x = otherdecoherence(10,900,10)\n",
    "plt.hist(x)"
   ]
  },
  {
   "cell_type": "code",
   "execution_count": null,
   "metadata": {},
   "outputs": [],
   "source": []
  }
 ],
 "metadata": {
  "kernelspec": {
   "display_name": "Python 3",
   "language": "python",
   "name": "python3"
  },
  "language_info": {
   "codemirror_mode": {
    "name": "ipython",
    "version": 3
   },
   "file_extension": ".py",
   "mimetype": "text/x-python",
   "name": "python",
   "nbconvert_exporter": "python",
   "pygments_lexer": "ipython3",
   "version": "3.7.1"
  }
 },
 "nbformat": 4,
 "nbformat_minor": 2
}
