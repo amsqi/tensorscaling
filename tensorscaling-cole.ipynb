{
 "cells": [
  {
   "cell_type": "code",
   "execution_count": 1,
   "metadata": {},
   "outputs": [],
   "source": [
    "%matplotlib inline\n",
    "from tensorscaling import scale, capacity, unit_tensor, random_tensor, marginal, random_unitary, random_orthogonal\n",
    "import numpy as np\n",
    "import scipy as scipy\n",
    "import cvxpy as cp\n",
    "import matplotlib.pyplot as plt\n",
    "from numpy import matrix\n"
   ]
  },
  {
   "cell_type": "markdown",
   "metadata": {},
   "source": [
    "# Tensor scaling"
   ]
  },
  {
   "cell_type": "markdown",
   "metadata": {},
   "source": [
    "Scale 3x3x3 unit tensor to certain non-uniform marginals:"
   ]
  },
  {
   "cell_type": "code",
   "execution_count": null,
   "metadata": {},
   "outputs": [],
   "source": [
    "shape = [3, 3, 3]\n",
    "targets = [(.5, .25, .25), (.4, .3, .3), (.7, .2, .1)]\n",
    "\n",
    "res = scale(unit_tensor(3, 3), targets, eps=1e-4)\n",
    "res"
   ]
  },
  {
   "cell_type": "markdown",
   "metadata": {},
   "source": [
    "We can also access the scaling matrices and the final scaled state:"
   ]
  },
  {
   "cell_type": "code",
   "execution_count": null,
   "metadata": {},
   "outputs": [],
   "source": [
    "print(res.gs[0], \"\\n\")\n",
    "print(res.gs[1], \"\\n\")\n",
    "print(res.gs[2])"
   ]
  },
  {
   "cell_type": "markdown",
   "metadata": {},
   "source": [
    "Let's now check that the W tensor *cannot* be scaled to uniform marginals:"
   ]
  },
  {
   "cell_type": "code",
   "execution_count": 22,
   "metadata": {},
   "outputs": [
    {
     "name": "stdout",
     "output_type": "stream",
     "text": [
      "[(0.5, 0.5), (0.5, 0.5), (0.5, 0.5), (0.5, 0.5)]\n"
     ]
    },
    {
     "data": {
      "text/plain": [
       "Result(success=False, iterations=1000, max_dist=0.5934653559719874, ...)"
      ]
     },
     "execution_count": 22,
     "metadata": {},
     "output_type": "execute_result"
    }
   ],
   "source": [
    "shape = [2, 2, 2, 2]\n",
    "W = np.zeros(shape)\n",
    "W[1, 0, 0, 0] = W[0, 1, 0, 0] = W[0, 0, 1, 0] = W[0, 0, 0, 1] = .5\n",
    "targets = [(.5, .5)] * 4\n",
    "print(targets)\n",
    "\n",
    "scale(W, targets, eps=1e-4, max_iterations=1000)"
   ]
  },
  {
   "cell_type": "markdown",
   "metadata": {},
   "source": [
    "To see more clearly what is going on, we can set the `verbose` flag:"
   ]
  },
  {
   "cell_type": "code",
   "execution_count": null,
   "metadata": {},
   "outputs": [],
   "source": [
    "res = scale(W, targets, eps=1e-4, max_iterations=10, verbose=True)"
   ]
  },
  {
   "cell_type": "markdown",
   "metadata": {},
   "source": [
    "We see that at each point in the algorithm, one of the marginals has Frobenius distance $\\approx 0.59$ to being uniform. Indeed, we know that the entanglement polytope of the W tensor does not include the point corresponding to uniform marginals -- see [here](https://www.entanglement-polytopes.org/four_qubits) for an interactive visualization!"
   ]
  },
  {
   "cell_type": "markdown",
   "metadata": {},
   "source": [
    "# Tuples of matrices and tensors"
   ]
  },
  {
   "cell_type": "markdown",
   "metadata": {},
   "source": [
    "We can just as well only prescribe the desired spectra for subsystems.\n",
    "Note that prescribing two out of three marginals amounts to *operator scaling*."
   ]
  },
  {
   "cell_type": "code",
   "execution_count": null,
   "metadata": {},
   "outputs": [],
   "source": [
    "shape = [3, 3, 3]\n",
    "targets = [(.4, .3, .3), (.7, .2, .1)]\n",
    "\n",
    "res = scale(unit_tensor(3, 3), targets, eps=1e-6)\n",
    "res"
   ]
  },
  {
   "cell_type": "markdown",
   "metadata": {},
   "source": [
    "Indeed, the last two marginals are as prescribed, while the first marginal is arbitrary."
   ]
  },
  {
   "cell_type": "code",
   "execution_count": null,
   "metadata": {},
   "outputs": [],
   "source": [
    "print(marginal(res.psi, 0).round(5), \"\\n\")\n",
    "print(marginal(res.psi, 1).round(5), \"\\n\")\n",
    "print(marginal(res.psi, 2).round(5))"
   ]
  },
  {
   "cell_type": "markdown",
   "metadata": {},
   "source": [
    "# Duality\n"
   ]
  },
  {
   "cell_type": "markdown",
   "metadata": {},
   "source": [
    "**The scaling way:** The below computes $\\frac{1}{t}\\inf_{\\det L = \\det R = 1} \\langle L \\otimes R,  e^{tC} \\rangle $ for inputs $C = uni (spec) uni^\\dagger$, dimension $n$, and weight $t$."
   ]
  },
  {
   "cell_type": "code",
   "execution_count": 25,
   "metadata": {
    "scrolled": true
   },
   "outputs": [],
   "source": [
    "def scalingot(spec,uni,n,weight):\n",
    "    #marginals p and q are just normalized identities\n",
    "    targets = [tuple((n**(-1))*np.ones(n)), tuple((n**(-1))*np.ones(n))]\n",
    "\n",
    "    expcost = uni.copy()\n",
    "    #make the unitary a list of nxn matrices  \n",
    "    expcost=expcost.reshape([n**2,n,n])\n",
    "\n",
    "\n",
    "    expspec = np.exp(weight*spec)\n",
    "    #multiply the i^{th} eigenvector by e^(weight*spec[i])\n",
    "    for i in range(0,n**2):\n",
    "        expcost[i]*=expspec[i]\n",
    "    cap = capacity(expcost, targets, eps=1e-4, max_iterations=400,randomize=False, verbose=False)\n",
    "    \n",
    "    return cap/weight\n",
    "\n"
   ]
  },
  {
   "cell_type": "markdown",
   "metadata": {},
   "source": [
    "**The SDP way:** Compute the sdp $\\max C \\cdot \\rho$ subject to $  E_{ij} \\otimes I_n \\cdot \\rho = P_{ij}$ and $ I_n \\otimes E_{ij} \\cdot \\rho = Q_{ij}$ and, of course $\\rho \\succeq 0$. "
   ]
  },
  {
   "cell_type": "code",
   "execution_count": 13,
   "metadata": {
    "scrolled": true
   },
   "outputs": [],
   "source": [
    "\n",
    "def sdpot(spec, uni, n):\n",
    "    #compute the cost matrix C = uni*spec*uni^T\n",
    "    C = uni.dot(np.diag(spec).dot(np.conj(uni).T))\n",
    "    #currently the marginals are just the normalized identities\n",
    "    p = np.eye(n,n)/n\n",
    "    q = np.eye(n,n)/n\n",
    "\n",
    "\n",
    "    X = cp.Variable((n**2,n**2), symmetric=True)\n",
    "    constraintos = [X >> 0]\n",
    "\n",
    "#add the partial trace constraints\n",
    "\n",
    "    for i in range(n):\n",
    "        for j in range(i+1):\n",
    "            a = np.kron(np.kron(np.eye(1,n,i), np.eye(n,1,-j)), np.eye(n,n))        #c.reshape([n**2,n**2])\n",
    "            a = (a + a.T)/2\n",
    "        \n",
    "            constraintos += [cp.trace(a @ X) == p[i,j]]\n",
    "        \n",
    "        \n",
    "        \n",
    "    for i in range(n):\n",
    "        for j in range(i+1):\n",
    "            a = np.kron(np.eye(n,n), np.kron(np.eye(1,n,i), np.eye(n,1,-j)))        #c.reshape([n**2,n**2])\n",
    "            a = (a + a.T)/2\n",
    "        \n",
    "            constraintos += [cp.trace(a @ X) == q[i,j]]\n",
    "\n",
    "\n",
    "    prob1 = cp.Problem(cp.Maximize(cp.trace(C @ X)),\n",
    "                  constraintos)\n",
    "\n",
    "    prob1.solve()\n",
    "    \n",
    "    return prob1.value\n",
    "\n",
    "    \n"
   ]
  },
  {
   "cell_type": "markdown",
   "metadata": {},
   "source": [
    "**Sanity check:** when the cost C is diagonal these algorithms should match "
   ]
  },
  {
   "cell_type": "code",
   "execution_count": 26,
   "metadata": {
    "scrolled": true
   },
   "outputs": [
    {
     "data": {
      "text/plain": [
       "<matplotlib.collections.PathCollection at 0x11d59c908>"
      ]
     },
     "execution_count": 26,
     "metadata": {},
     "output_type": "execute_result"
    },
    {
     "data": {
      "image/png": "[encoded data removed]",
      "text/plain": [
       "<Figure size 432x288 with 1 Axes>"
      ]
     },
     "metadata": {
      "needs_background": "light"
     },
     "output_type": "display_data"
    }
   ],
   "source": [
    "n = 2\n",
    "scal = []\n",
    "sdp = []\n",
    "\n",
    "for i in range(20):\n",
    "    #choose random spectrum for cost matrix\n",
    "    spec = np.random.randn(n**2)\n",
    "    #C will be uni*spec*uni^T, for now we make C diagonal \n",
    "    uni = np.eye(n**2)\n",
    "    #compute the mincost using both algorithms\n",
    "    sc = scalingot(spec,uni,n,20)\n",
    "    sd = sdpot(spec,uni,n)\n",
    "    #put them in a list\n",
    "    scal.append(sc)\n",
    "    sdp.append(sd)\n",
    "#scatter plot it\n",
    "plt.scatter(scal,sdp)\n",
    "\n",
    "\n",
    "\n",
    "\n",
    "    "
   ]
  },
  {
   "cell_type": "markdown",
   "metadata": {},
   "source": [
    "**In general:** we don't know what will happen, but it doesn't look like they are the same. "
   ]
  },
  {
   "cell_type": "code",
   "execution_count": 27,
   "metadata": {},
   "outputs": [
    {
     "data": {
      "text/plain": [
       "<matplotlib.collections.PathCollection at 0x11d6cebe0>"
      ]
     },
     "execution_count": 27,
     "metadata": {},
     "output_type": "execute_result"
    },
    {
     "data": {
      "image/png": "[encoded data removed]",
      "text/plain": [
       "<Figure size 432x288 with 1 Axes>"
      ]
     },
     "metadata": {
      "needs_background": "light"
     },
     "output_type": "display_data"
    }
   ],
   "source": [
    "n = 2\n",
    "scal = []\n",
    "sdp = []\n",
    "\n",
    "for i in range(20):\n",
    "    spec = np.random.randn(n**2)\n",
    "    #same except this time we use random unitary so that C is quite random\n",
    "    uni = random_orthogonal(n**2)\n",
    "    sc = scalingot(spec,uni,n,20)\n",
    "    sd = sdpot(spec,uni,n)\n",
    "    scal.append(sc)\n",
    "    sdp.append(sd)\n",
    "\n",
    "plt.scatter(scal,sdp)"
   ]
  },
  {
   "cell_type": "markdown",
   "metadata": {},
   "source": [
    " # scratchwork "
   ]
  },
  {
   "cell_type": "code",
   "execution_count": null,
   "metadata": {},
   "outputs": [],
   "source": [
    "tuple(np.ones(3))\n"
   ]
  },
  {
   "cell_type": "code",
   "execution_count": null,
   "metadata": {},
   "outputs": [],
   "source": []
  }
 ],
 "metadata": {
  "kernelspec": {
   "display_name": "Python 3",
   "language": "python",
   "name": "python3"
  },
  "language_info": {
   "codemirror_mode": {
    "name": "ipython",
    "version": 3
   },
   "file_extension": ".py",
   "mimetype": "text/x-python",
   "name": "python",
   "nbconvert_exporter": "python",
   "pygments_lexer": "ipython3",
   "version": "3.7.1"
  }
 },
 "nbformat": 4,
 "nbformat_minor": 2
}
